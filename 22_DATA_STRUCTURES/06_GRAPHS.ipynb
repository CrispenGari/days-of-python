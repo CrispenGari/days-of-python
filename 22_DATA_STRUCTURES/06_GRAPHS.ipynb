{
 "cells": [
  {
   "cell_type": "markdown",
   "id": "437ec1df-c239-4095-afee-ce735c9b58e1",
   "metadata": {},
   "source": [
    "### Graphs\n",
    "A graph is a non-linear data structure that contains a finite number of vertices also called nodes connected by edges.\n",
    "\n",
    "#### Types of Graphs\n",
    "1. Directed Graphs - A graph in which the edges have a direction.\n",
    "2. Undirected Graphs - A graph where edges are bidirectional. Meaning the graph can be traversed in any direction. These types of graphs can be visually shown with no arrows.\n",
    "\n",
    "### Graphs Representation\n",
    "- A graph can be presented in two ways.\n",
    "\n",
    "1. **Adjacency matrix**\n",
    "- An adjacency matrix is a 2D array which consist of size VxV where V is the number of vertices in a graph.\n",
    " - Each row and column represents a vertex.\n",
    "    - if the value of matrix[i][j] = 1 then this means that there is an edge connecting vertex i and vertex j.\n",
    "\n",
    "```py\n",
    "matrix = [\n",
    "  [0, 1, 0],\n",
    "  [1, 0, 1],\n",
    "  [0, 1, 0],\n",
    "]\n",
    "```\n",
    "\n",
    "Assuming that we have vertices `A`, `B` and `C` from the above matrix representation respectively we can take the following points.\n",
    "\n",
    "- vertex `A` is connected to vertex `B`\n",
    "- vertex `B` is connected to vertex `A` and vertex `C`\n",
    "- vertex `C` is connected to vertex `B` only\n",
    "\n",
    "\n",
    "2. **Adjacency list**\n",
    "Vertices are stored in a map like data structure, and every vertex stores a list of it's adjacent vertices. \n",
    "Let's have a look at the following points and create an `adjacencyList` from them\n",
    "\n",
    "- vertex `A` is connected to vertex `B`\n",
    "- vertex `B` is connected to vertex `A` and vertex `C`\n",
    "- vertex `C` is connected to vertex `B` only\n",
    "\n",
    "```py\n",
    "adjacencyList = {\n",
    "  \"A\": [\"B\"],\n",
    "  \"B\": [\"A\", \"C\"],\n",
    "  \"C\": [\"B\"],\n",
    "}\n",
    "```\n",
    "\n",
    "\n",
    "We are going to use this to implement our graph data structure because of the following reasons compared to the Adjacency Matrix.\n",
    "\n",
    "1. It's storage efficient\n",
    "2. It has constant time complexity.\n",
    "3. Doesn't store unnecessary information for example, even if `C` and `A` are not connected we still have to store 0 in the matrix.\n",
    "4. The first method that we'll implement is the addVertex and it:\n",
    "\n",
    "Take in a vertex which is a string\n",
    "\n",
    "1. Check if it exists in the `verticesLists`.\n",
    "2. If it does then it will not add it\n",
    "2. If not then it will add it as an object property and set it's initial value as an empty set.\n"
   ]
  },
  {
   "cell_type": "code",
   "execution_count": 8,
   "id": "c94c0a3b-2e8b-4ff3-b237-48f0cc64c67f",
   "metadata": {},
   "outputs": [
    {
     "name": "stdout",
     "output_type": "stream",
     "text": [
      "{'A': set(), 'B': set(), 'C': set()}\n"
     ]
    }
   ],
   "source": [
    "\n",
    "class Graph:\n",
    "    def __init__(self):\n",
    "        self.adjacencyList = dict()\n",
    "        \n",
    "    def addVertex(self, vertex):\n",
    "        if vertex not in self.adjacencyList:\n",
    "            self.adjacencyList[vertex] = set()\n",
    "\n",
    "    def display(self):\n",
    "        print(self.adjacencyList)\n",
    "\n",
    "graph = Graph()\n",
    "graph.addVertex(\"A\")\n",
    "graph.addVertex(\"B\")\n",
    "graph.addVertex(\"C\")\n",
    "\n",
    "graph.display()\n"
   ]
  },
  {
   "cell_type": "markdown",
   "id": "142f4ca7-4569-4028-b890-6838dbc78ec9",
   "metadata": {},
   "source": [
    "The next method that we are going to implement is called `addEdge` which:\n",
    "\n",
    "1. Takes in two vertices and add them to the graph.\n",
    "2. First we check if the vertex is in the graph if not we create it.\n",
    "3. Then we create a bidirectional connection between these two vertices."
   ]
  },
  {
   "cell_type": "code",
   "execution_count": 11,
   "id": "0d6a009d-04f2-4a28-a187-3ba99bc5c634",
   "metadata": {},
   "outputs": [
    {
     "name": "stdout",
     "output_type": "stream",
     "text": [
      "{'A': {'B'}, 'B': {'A', 'C'}, 'C': {'B'}}\n"
     ]
    }
   ],
   "source": [
    "\n",
    "class Graph:\n",
    "    def __init__(self):\n",
    "        self.adjacencyList = dict()\n",
    "        \n",
    "    def addVertex(self, vertex):\n",
    "        if vertex not in self.adjacencyList:\n",
    "            self.adjacencyList[vertex] = set()\n",
    "\n",
    "    def display(self):\n",
    "        print(self.adjacencyList)\n",
    "\n",
    "    def addEdge(self, vertex1, vertex2):\n",
    "        self.addVertex(vertex1)\n",
    "        self.addVertex(vertex2)\n",
    "        self.adjacencyList[vertex1].add(vertex2)\n",
    "        self.adjacencyList[vertex2].add(vertex1)\n",
    "graph = Graph()\n",
    "graph.addVertex(\"A\")\n",
    "graph.addVertex(\"B\")\n",
    "graph.addVertex(\"C\")\n",
    "\n",
    "graph.addEdge(\"A\", \"B\")\n",
    "graph.addEdge(\"B\", \"C\")\n",
    "graph.addEdge(\"C\", \"B\")\n",
    "\n",
    "graph.display()\n"
   ]
  },
  {
   "cell_type": "markdown",
   "id": "dc83b7a4-59d2-49c5-bb48-322be6b1979e",
   "metadata": {},
   "source": [
    "The next method that we are going to modify our `display` that will display the Vertex and it's adjacency list."
   ]
  },
  {
   "cell_type": "code",
   "execution_count": 14,
   "id": "f41d8b16-6e18-4553-a4f1-d589fa3e5e9d",
   "metadata": {},
   "outputs": [
    {
     "name": "stdout",
     "output_type": "stream",
     "text": [
      "Vertex A:\t ['B']\n",
      "Vertex B:\t ['A', 'C']\n",
      "Vertex C:\t ['B']\n"
     ]
    }
   ],
   "source": [
    "\n",
    "class Graph:\n",
    "    def __init__(self):\n",
    "        self.adjacencyList = dict()\n",
    "        \n",
    "    def addVertex(self, vertex):\n",
    "        if vertex not in self.adjacencyList:\n",
    "            self.adjacencyList[vertex] = set()\n",
    "\n",
    "    def display(self):\n",
    "        for v1, v2 in self.adjacencyList.items():\n",
    "            print(f\"Vertex {v1}:\\t {list(v2)}\")\n",
    "\n",
    "    def addEdge(self, vertex1, vertex2):\n",
    "        self.addVertex(vertex1)\n",
    "        self.addVertex(vertex2)\n",
    "        self.adjacencyList[vertex1].add(vertex2)\n",
    "        self.adjacencyList[vertex2].add(vertex1)\n",
    "graph = Graph()\n",
    "graph.addVertex(\"A\")\n",
    "graph.addVertex(\"B\")\n",
    "graph.addVertex(\"C\")\n",
    "\n",
    "graph.addEdge(\"A\", \"B\")\n",
    "graph.addEdge(\"B\", \"C\")\n",
    "graph.addEdge(\"C\", \"B\")\n",
    "\n",
    "graph.display()\n"
   ]
  },
  {
   "cell_type": "markdown",
   "id": "ed4fa60a-7164-4453-989a-91cda4aa31f6",
   "metadata": {},
   "source": [
    "The next to method that we are going to add are called `removeEdge` and `removeVertex` which does what their names says.\n",
    "\n",
    "- When removing edges we need to make sure we remove the bidirectional edges of these edges.\n",
    "- When removing a vertex we need to make sure that we remove the edges first."
   ]
  },
  {
   "cell_type": "code",
   "execution_count": 41,
   "id": "70c746a1-7eac-4c32-be06-72fa1a778a0a",
   "metadata": {},
   "outputs": [
    {
     "name": "stdout",
     "output_type": "stream",
     "text": [
      "Vertex A:\t ['B']\n",
      "Vertex B:\t ['A', 'C']\n",
      "Vertex C:\t ['B']\n",
      "-------------------\n",
      "Vertex A:\t ['B']\n",
      "Vertex B:\t ['A']\n",
      "Vertex C:\t []\n",
      "-------------------\n",
      "Vertex A:\t ['B']\n",
      "Vertex B:\t ['A']\n"
     ]
    }
   ],
   "source": [
    "\n",
    "class Graph:\n",
    "    def __init__(self):\n",
    "        self.adjacencyList = dict()\n",
    "        \n",
    "    def addVertex(self, vertex):\n",
    "        if vertex not in self.adjacencyList:\n",
    "            self.adjacencyList[vertex] = set()\n",
    "\n",
    "    def display(self):\n",
    "        for v1, v2 in self.adjacencyList.items():\n",
    "            print(f\"Vertex {v1}:\\t {list(v2)}\")\n",
    "\n",
    "    def addEdge(self, vertex1, vertex2):\n",
    "        self.addVertex(vertex1)\n",
    "        self.addVertex(vertex2)\n",
    "        self.adjacencyList[vertex1].add(vertex2)\n",
    "        self.adjacencyList[vertex2].add(vertex1)\n",
    "        \n",
    "    def removeEdge(self, vertex1, vertex2):\n",
    "        self.adjacencyList[vertex1].remove(vertex2)\n",
    "        self.adjacencyList[vertex2].remove(vertex1)\n",
    "\n",
    "    def removeVertex(self, vertex): \n",
    "        if vertex not in self.adjacencyList:\n",
    "            return\n",
    "        # Remove all edges connected to the vertex\n",
    "        while self.adjacencyList[vertex]:  # Loop until the list is empty\n",
    "            adjacentVertex = self.adjacencyList[vertex][0]\n",
    "            self.removeEdge(vertex, adjacentVertex)\n",
    "        \n",
    "        # Delete the vertex from the adjacency list\n",
    "        del self.adjacencyList[vertex]\n",
    "        \n",
    "graph = Graph()\n",
    "graph.addVertex(\"A\")\n",
    "graph.addVertex(\"B\")\n",
    "graph.addVertex(\"C\")\n",
    "\n",
    "graph.addEdge(\"A\", \"B\")\n",
    "graph.addEdge(\"B\", \"C\")\n",
    "graph.addEdge(\"C\", \"B\")\n",
    "\n",
    "graph.display()\n",
    "\n",
    "print(\"-------------------\")\n",
    "graph.removeEdge(\"B\", \"C\")\n",
    "graph.display()\n",
    "print(\"-------------------\")\n",
    "graph.removeVertex(\"C\")\n",
    "graph.display()\n"
   ]
  },
  {
   "cell_type": "markdown",
   "id": "178ec7d2-e425-432f-9c94-c59726ee7e47",
   "metadata": {},
   "source": [
    "The last method that we are going to implement is called `hasEdge` which is responsible for checking if 2 vertices have edge between them."
   ]
  },
  {
   "cell_type": "code",
   "execution_count": 48,
   "id": "39b7cba9-c045-470e-815e-5881c009ad6a",
   "metadata": {},
   "outputs": [
    {
     "name": "stdout",
     "output_type": "stream",
     "text": [
      "Vertex A:\t ['B']\n",
      "Vertex B:\t ['A', 'C']\n",
      "Vertex C:\t ['B']\n",
      "-------------------\n",
      "Vertex A:\t ['B']\n",
      "Vertex B:\t ['A']\n",
      "Vertex C:\t []\n",
      "-------------------\n",
      "Vertex A:\t ['B']\n",
      "Vertex B:\t ['A']\n",
      "-------------------\n",
      "{'aHasB': True, 'bHasC': False}\n"
     ]
    }
   ],
   "source": [
    "\n",
    "class Graph:\n",
    "    def __init__(self):\n",
    "        self.adjacencyList = dict()\n",
    "        \n",
    "    def addVertex(self, vertex):\n",
    "        if vertex not in self.adjacencyList:\n",
    "            self.adjacencyList[vertex] = set()\n",
    "\n",
    "    def display(self):\n",
    "        for v1, v2 in self.adjacencyList.items():\n",
    "            print(f\"Vertex {v1}:\\t {list(v2)}\")\n",
    "\n",
    "    def addEdge(self, vertex1, vertex2):\n",
    "        self.addVertex(vertex1)\n",
    "        self.addVertex(vertex2)\n",
    "        self.adjacencyList[vertex1].add(vertex2)\n",
    "        self.adjacencyList[vertex2].add(vertex1)\n",
    "        \n",
    "    def removeEdge(self, vertex1, vertex2):\n",
    "        self.adjacencyList[vertex1].remove(vertex2)\n",
    "        self.adjacencyList[vertex2].remove(vertex1)\n",
    "\n",
    "    def removeVertex(self, vertex): \n",
    "        if vertex not in self.adjacencyList:\n",
    "            return\n",
    "        # Remove all edges connected to the vertex\n",
    "        while self.adjacencyList[vertex]:  # Loop until the list is empty\n",
    "            adjacentVertex = self.adjacencyList[vertex][0]\n",
    "            self.removeEdge(vertex, adjacentVertex)\n",
    "        \n",
    "        # Delete the vertex from the adjacency list\n",
    "        del self.adjacencyList[vertex]\n",
    "    def hasEdge(self, vertex1, vertex2):\n",
    "        return vertex2 in self.adjacencyList[vertex1] and vertex1 in self.adjacencyList[vertex2]\n",
    "        \n",
    "graph = Graph()\n",
    "graph.addVertex(\"A\")\n",
    "graph.addVertex(\"B\")\n",
    "graph.addVertex(\"C\")\n",
    "\n",
    "graph.addEdge(\"A\", \"B\")\n",
    "graph.addEdge(\"B\", \"C\")\n",
    "graph.addEdge(\"C\", \"B\")\n",
    "\n",
    "graph.display()\n",
    "\n",
    "print(\"-------------------\")\n",
    "graph.removeEdge(\"B\", \"C\")\n",
    "graph.display()\n",
    "print(\"-------------------\")\n",
    "graph.removeVertex(\"C\")\n",
    "graph.display()\n",
    "\n",
    "print(\"-------------------\")\n",
    "print({\n",
    "  \"aHasB\": graph.hasEdge(\"A\", \"B\"),\n",
    "  \"bHasC\": graph.hasEdge(\"B\", \"C\"),\n",
    "});"
   ]
  },
  {
   "cell_type": "code",
   "execution_count": null,
   "id": "c7df8c62-22f0-4ff2-a1ea-23ff68b56c58",
   "metadata": {},
   "outputs": [],
   "source": []
  }
 ],
 "metadata": {
  "kernelspec": {
   "display_name": "Python 3 (ipykernel)",
   "language": "python",
   "name": "python3"
  },
  "language_info": {
   "codemirror_mode": {
    "name": "ipython",
    "version": 3
   },
   "file_extension": ".py",
   "mimetype": "text/x-python",
   "name": "python",
   "nbconvert_exporter": "python",
   "pygments_lexer": "ipython3",
   "version": "3.11.7"
  }
 },
 "nbformat": 4,
 "nbformat_minor": 5
}

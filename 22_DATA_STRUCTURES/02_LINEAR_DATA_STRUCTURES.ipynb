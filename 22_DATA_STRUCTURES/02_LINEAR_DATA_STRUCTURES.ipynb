{
 "cells": [
  {
   "cell_type": "markdown",
   "id": "c30ad25c-60e2-4ec9-aa05-6c9a3b688fae",
   "metadata": {},
   "source": [
    "### Stack and Queue Data structures\n",
    "\n",
    "- These are linear data structures.\n",
    "\n",
    "| Feature        | Stack (LIFO)           | Queue (FIFO)             |\n",
    "|----------------|------------------------|--------------------------|\n",
    "| Insert         | Push (to top)          | Enqueue (to end)         |\n",
    "| Remove         | Pop (from top)         | Dequeue (from front)     |\n",
    "| Primary Use    | Reverse, backtracking  | Order processing         |\n",
    "\n",
    "\n",
    "### Stack\n",
    "- A stack is a linear data structure that follows the Last-In, First-Out (LIFO) principle.\n",
    "\n",
    "Here are some `stack` methods that we have.\n",
    "\n",
    "1. `Push`: Add an element to the top of the stack.\n",
    "2. `Pop`: Remove the top element from the stack.\n",
    "3. `Peek/Top`: View the top element without removing it.\n",
    "4. `IsEmpty`: Check if the stack is empty."
   ]
  },
  {
   "cell_type": "code",
   "execution_count": 34,
   "id": "13ce7d98-ecf8-41f6-adfa-32427c6dcbfd",
   "metadata": {},
   "outputs": [],
   "source": [
    "class Stack:\n",
    "    def __init__(self):\n",
    "        self.items = []\n",
    "        \n",
    "    def push(self, item):\n",
    "        \"\"\"\n",
    "        Add an element to the top of the stack.\n",
    "        \"\"\"\n",
    "        self.items.append(item)\n",
    "    def pop(self):\n",
    "        \"\"\"\n",
    "        Remove the top element from the stack.\n",
    "        \"\"\"\n",
    "        if self.isEmpty():\n",
    "            print(\"The stack is empty so you can not pop items out of the stack.\")\n",
    "            return\n",
    "        item = self.items.pop()\n",
    "        return item\n",
    "    # peek\n",
    "    def peek(self):\n",
    "        \"\"\"\n",
    "        View the top element without removing it.\n",
    "        \"\"\"\n",
    "        if self.isEmpty():\n",
    "            print(\"The stack is empty so you there is no peek item.\")\n",
    "            return\n",
    "        item = self.items[-1]\n",
    "        return item\n",
    "    # isEmpty\n",
    "    def isEmpty(self):\n",
    "        \"\"\"\n",
    "        Check if the stack is empty.\n",
    "        \"\"\"\n",
    "        empty = len(self.items) == 0\n",
    "        return empty\n",
    "        \n",
    "stack = Stack()"
   ]
  },
  {
   "cell_type": "code",
   "execution_count": 35,
   "id": "596e210c-2176-4656-a8b2-8f8e84feafea",
   "metadata": {},
   "outputs": [
    {
     "name": "stdout",
     "output_type": "stream",
     "text": [
      "Is Stack Empty:  True\n"
     ]
    }
   ],
   "source": [
    "print(\"Is Stack Empty: \", stack.isEmpty())"
   ]
  },
  {
   "cell_type": "code",
   "execution_count": 36,
   "id": "ff8f2b38-6635-4c79-bffd-041c4f1c3d9c",
   "metadata": {},
   "outputs": [],
   "source": [
    "stack.push(8)"
   ]
  },
  {
   "cell_type": "code",
   "execution_count": 37,
   "id": "528696fe-2bc5-4ee0-9485-41dc51faa327",
   "metadata": {},
   "outputs": [
    {
     "name": "stdout",
     "output_type": "stream",
     "text": [
      "Is Stack Empty:  False\n"
     ]
    }
   ],
   "source": [
    "print(\"Is Stack Empty: \", stack.isEmpty())"
   ]
  },
  {
   "cell_type": "code",
   "execution_count": 38,
   "id": "a88bda3f-63b4-4aa6-9837-e29f43b6e3a8",
   "metadata": {},
   "outputs": [],
   "source": [
    "stack.push(10)"
   ]
  },
  {
   "cell_type": "code",
   "execution_count": 39,
   "id": "e4c65fba-03e1-425a-934d-94c815742be9",
   "metadata": {},
   "outputs": [
    {
     "name": "stdout",
     "output_type": "stream",
     "text": [
      "Peek Item:  10\n"
     ]
    }
   ],
   "source": [
    "print(\"Peek Item: \", stack.peek())"
   ]
  },
  {
   "cell_type": "code",
   "execution_count": 40,
   "id": "824d8f15-3728-4148-81b3-58837dee0f00",
   "metadata": {},
   "outputs": [
    {
     "name": "stdout",
     "output_type": "stream",
     "text": [
      "Poped Item:  10\n"
     ]
    }
   ],
   "source": [
    "print(\"Poped Item: \", stack.pop())"
   ]
  },
  {
   "cell_type": "code",
   "execution_count": 41,
   "id": "11f35485-38cd-402f-9b07-fedc1652b4b9",
   "metadata": {},
   "outputs": [
    {
     "name": "stdout",
     "output_type": "stream",
     "text": [
      "Poped Item:  8\n"
     ]
    }
   ],
   "source": [
    "print(\"Poped Item: \", stack.pop())"
   ]
  },
  {
   "cell_type": "code",
   "execution_count": 42,
   "id": "c9c745f6-aa22-4ac5-b418-4fd353ac840f",
   "metadata": {},
   "outputs": [
    {
     "name": "stdout",
     "output_type": "stream",
     "text": [
      "The stack is empty so you can not pop items out of the stack.\n",
      "Poped Item:  None\n"
     ]
    }
   ],
   "source": [
    "print(\"Poped Item: \", stack.pop())"
   ]
  },
  {
   "cell_type": "code",
   "execution_count": 43,
   "id": "36d4b3fa-076d-4d04-9536-9667daedc03e",
   "metadata": {},
   "outputs": [
    {
     "name": "stdout",
     "output_type": "stream",
     "text": [
      "The stack is empty so you there is no peek item.\n",
      "Peek Item:  None\n"
     ]
    }
   ],
   "source": [
    "print(\"Peek Item: \", stack.peek())"
   ]
  },
  {
   "cell_type": "markdown",
   "id": "f7badda9-8685-4670-89ea-ba311d0fabf4",
   "metadata": {},
   "source": [
    "Let's create an awesome stack data structure."
   ]
  },
  {
   "cell_type": "code",
   "execution_count": 63,
   "id": "126c82fd-06cb-4d84-aadb-c87cf54cea1f",
   "metadata": {},
   "outputs": [
    {
     "name": "stdout",
     "output_type": "stream",
     "text": [
      "1)\t[\t10\t]\n",
      "2)\t[\t9\t]\n",
      "3)\t[\t8\t]\n",
      "4)\t[\t7\t]\n",
      "5)\t[\t4\t]\n",
      "6)\t[\t3\t]\n",
      "7)\t[\t2\t]\n",
      "8)\t[\t1\t]\n"
     ]
    }
   ],
   "source": [
    "\n",
    "class Stack:\n",
    "    def __init__(self, *args):\n",
    "        self.items = list(args)\n",
    "\n",
    "    def push(self, *items):\n",
    "        items = list(items)\n",
    "        self.items.extend(items)\n",
    "\n",
    "    def print(self):\n",
    "        for i, item in enumerate(self.items[::-1]):\n",
    "            print(f\"{i+1})\\t[\\t{item}\\t]\")\n",
    "\n",
    "    def pop(self):\n",
    "        \"\"\"\n",
    "        Remove the top element from the stack.\n",
    "        \"\"\"\n",
    "        if self.isEmpty():\n",
    "            print(\"The stack is empty so you can not pop items out of the stack.\")\n",
    "            return\n",
    "        item = self.items.pop()\n",
    "        return item\n",
    "\n",
    "    def peek(self):\n",
    "        \"\"\"\n",
    "        View the top element without removing it.\n",
    "        \"\"\"\n",
    "        if self.isEmpty():\n",
    "            print(\"The stack is empty so you there is no peek item.\")\n",
    "            return\n",
    "        item = self.items[-1]\n",
    "        return item\n",
    "    # isEmpty\n",
    "    def isEmpty(self):\n",
    "        \"\"\"\n",
    "        Check if the stack is empty.\n",
    "        \"\"\"\n",
    "        empty = len(self.items) == 0\n",
    "        return empty\n",
    "        \n",
    "\n",
    "\n",
    "\n",
    "\n",
    "stack = Stack(1, 2, 3, 4)\n",
    "stack.push(7)\n",
    "stack.push(8, 9, 10)\n",
    "stack.print()"
   ]
  },
  {
   "cell_type": "code",
   "execution_count": 64,
   "id": "a4751de0-e662-4477-8284-9b146ea83e50",
   "metadata": {},
   "outputs": [
    {
     "data": {
      "text/plain": [
       "10"
      ]
     },
     "execution_count": 64,
     "metadata": {},
     "output_type": "execute_result"
    }
   ],
   "source": [
    "stack.peek()"
   ]
  },
  {
   "cell_type": "code",
   "execution_count": 65,
   "id": "9c509618-277d-48a1-9c2e-6271fd696554",
   "metadata": {},
   "outputs": [
    {
     "data": {
      "text/plain": [
       "10"
      ]
     },
     "execution_count": 65,
     "metadata": {},
     "output_type": "execute_result"
    }
   ],
   "source": [
    "stack.pop()"
   ]
  },
  {
   "cell_type": "code",
   "execution_count": 66,
   "id": "3bdec505-83bf-444b-8ad3-552c51927b91",
   "metadata": {},
   "outputs": [
    {
     "name": "stdout",
     "output_type": "stream",
     "text": [
      "1)\t[\t9\t]\n",
      "2)\t[\t8\t]\n",
      "3)\t[\t7\t]\n",
      "4)\t[\t4\t]\n",
      "5)\t[\t3\t]\n",
      "6)\t[\t2\t]\n",
      "7)\t[\t1\t]\n"
     ]
    }
   ],
   "source": [
    "stack.print()"
   ]
  },
  {
   "cell_type": "code",
   "execution_count": 67,
   "id": "d6d32d97-4cf9-41db-a2d5-2470dbd045fc",
   "metadata": {},
   "outputs": [
    {
     "data": {
      "text/plain": [
       "9"
      ]
     },
     "execution_count": 67,
     "metadata": {},
     "output_type": "execute_result"
    }
   ],
   "source": [
    "stack.pop()"
   ]
  },
  {
   "cell_type": "code",
   "execution_count": 68,
   "id": "7ae7e429-4823-4fd5-b0fb-219c6aed94b1",
   "metadata": {},
   "outputs": [
    {
     "name": "stdout",
     "output_type": "stream",
     "text": [
      "1)\t[\t8\t]\n",
      "2)\t[\t7\t]\n",
      "3)\t[\t4\t]\n",
      "4)\t[\t3\t]\n",
      "5)\t[\t2\t]\n",
      "6)\t[\t1\t]\n"
     ]
    }
   ],
   "source": [
    "stack.print()"
   ]
  },
  {
   "cell_type": "markdown",
   "id": "db433dd6-7e24-4982-af44-98b1f4784ca1",
   "metadata": {},
   "source": [
    "### Queue\n",
    "A queue is a linear data structure that follows the First-In, First-Out (FIFO) principle.\n",
    "\n",
    "Here are the queue methods:\n",
    "\n",
    "1. `Enqueue`: Add an element to the end of the queue.\n",
    "2. `Dequeue`: Remove the element at the front of the queue.\n",
    "3. `Front`: View the front element without removing it.\n",
    "4. `IsEmpty`: Check if the queue is empty."
   ]
  },
  {
   "cell_type": "code",
   "execution_count": 26,
   "id": "b4f5266d-6bdc-46c5-82a4-ef086bc202dd",
   "metadata": {},
   "outputs": [
    {
     "name": "stdout",
     "output_type": "stream",
     "text": [
      "[\t9\t] | \n",
      "9\n",
      "\n"
     ]
    }
   ],
   "source": [
    "\n",
    "class Queue:\n",
    "    def __init__(self):\n",
    "        self.items = []\n",
    "\n",
    "    def enqueue(self, item):\n",
    "        self.items.append(item)\n",
    "\n",
    "    # def dequeue(self):\n",
    "    #     item = self.items[0]\n",
    "    #     self.items.remove(item)\n",
    "    #     return item\n",
    "    def dequeue(self):\n",
    "        if self.isEmpty(): return None\n",
    "        item = self.items[0]\n",
    "        self.items = self.items[1:]\n",
    "        return item\n",
    "    def front(self):\n",
    "        if self.isEmpty(): return None\n",
    "        item = self.items[0]\n",
    "        return item\n",
    "    def isEmpty(self):\n",
    "        return len(self.items) == 0\n",
    "        \n",
    "    def print(self):\n",
    "        for index, item in enumerate(self.items):\n",
    "            print(f\"[\\t{item}\\t] | \", end=\"\")\n",
    "        print()\n",
    "\n",
    "\n",
    "\n",
    "queue = Queue()\n",
    "queue.enqueue(9)\n",
    "queue.print()\n",
    "\n",
    "i = queue.dequeue()\n",
    "print(i)\n",
    "queue.print()\n",
    "queue.front()"
   ]
  },
  {
   "cell_type": "markdown",
   "id": "d8a9ca8d-13d5-4a48-9697-2b15a72577f8",
   "metadata": {},
   "source": [
    "Let's build an awesome ``Queue``"
   ]
  },
  {
   "cell_type": "code",
   "execution_count": 32,
   "id": "35be8fd2-252b-4d73-a691-f51999321c91",
   "metadata": {},
   "outputs": [
    {
     "name": "stdout",
     "output_type": "stream",
     "text": [
      "[FRONT]--->[ 4 ]....[ 5 ]....[ 0 ]....[ -6 ]....[ 8 ]....[ 9 ]\n"
     ]
    }
   ],
   "source": [
    "class Queue:\n",
    "    def __init__(self, *items):\n",
    "        self.items = list(items)\n",
    "\n",
    "    def enqueue(self, *items):\n",
    "        self.items.extend(list(items))\n",
    "\n",
    "    def dequeue(self):\n",
    "        if self.isEmpty(): return None\n",
    "        item = self.items[0]\n",
    "        self.items = self.items[1:]\n",
    "        return item\n",
    "    def front(self):\n",
    "        if self.isEmpty(): return None\n",
    "        item = self.items[0]\n",
    "        return item\n",
    "    def isEmpty(self):\n",
    "        return len(self.items) == 0\n",
    "        \n",
    "    def print(self):\n",
    "        for index, item in enumerate(self.items):\n",
    "            d = '....' if index+ 1 < len(self.items) else ''\n",
    "            f = '[FRONT]--->' if index == 0 else ''\n",
    "            print(f\"{f}[ {item} ]{d}\", end=\"\")\n",
    "        print()\n",
    "\n",
    "q = Queue(3, 4, 5)\n",
    "q.enqueue(0, -6, 8, 9)\n",
    "q.dequeue()\n",
    "q.print()"
   ]
  },
  {
   "cell_type": "code",
   "execution_count": null,
   "id": "bd605737-e227-41e5-9d6f-6bf8ac68f2b1",
   "metadata": {},
   "outputs": [],
   "source": []
  }
 ],
 "metadata": {
  "kernelspec": {
   "display_name": "Python 3 (ipykernel)",
   "language": "python",
   "name": "python3"
  },
  "language_info": {
   "codemirror_mode": {
    "name": "ipython",
    "version": 3
   },
   "file_extension": ".py",
   "mimetype": "text/x-python",
   "name": "python",
   "nbconvert_exporter": "python",
   "pygments_lexer": "ipython3",
   "version": "3.11.7"
  }
 },
 "nbformat": 4,
 "nbformat_minor": 5
}

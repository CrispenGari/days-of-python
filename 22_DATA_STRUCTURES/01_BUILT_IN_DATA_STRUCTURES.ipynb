{
 "cells": [
  {
   "cell_type": "markdown",
   "id": "886d23a8-1af7-4fba-aa6e-9899534bd1ce",
   "metadata": {},
   "source": [
    "### 1. List\n",
    "- An ordered, mutable collection that allows duplicates.\n",
    "\n",
    "\n",
    "You can create a list in python by using angle brackets (`[]`) bellow is an example of how to create a list in python."
   ]
  },
  {
   "cell_type": "code",
   "execution_count": 1,
   "id": "0652da35-7979-4503-874c-54d5ec9fa742",
   "metadata": {},
   "outputs": [
    {
     "data": {
      "text/plain": [
       "[2, 3, 2, [5, 7], 'Male', 'c', True]"
      ]
     },
     "execution_count": 1,
     "metadata": {},
     "output_type": "execute_result"
    }
   ],
   "source": [
    "A = [2, 3, 2, [5, 7], \"Male\", 'c', True]\n",
    "A "
   ]
  },
  {
   "cell_type": "markdown",
   "id": "1dc061cd-f141-412f-81ac-16d4cc9fcc15",
   "metadata": {},
   "source": [
    "Let's have a look at some list methods that we have in python.\n",
    "\n",
    "1. ``append``- this method adds an element at the end of a list in python."
   ]
  },
  {
   "cell_type": "code",
   "execution_count": 45,
   "id": "a2d67670-6c2e-4203-86f5-8e5beef1f7f5",
   "metadata": {},
   "outputs": [
    {
     "data": {
      "text/plain": [
       "['First', 10, 10, True, 'c', 'Male', [5, 7], 2, 3, 2, 10]"
      ]
     },
     "execution_count": 45,
     "metadata": {},
     "output_type": "execute_result"
    }
   ],
   "source": [
    "A.append(10)\n",
    "A"
   ]
  },
  {
   "cell_type": "markdown",
   "id": "9336acc0-3a16-4054-964d-8a011ad18b2a",
   "metadata": {},
   "source": [
    "2. `count` - counts elements in a list."
   ]
  },
  {
   "cell_type": "code",
   "execution_count": 5,
   "id": "70f82641-e2d3-4a5b-a4ba-4de4e9ee6345",
   "metadata": {},
   "outputs": [
    {
     "data": {
      "text/plain": [
       "2"
      ]
     },
     "execution_count": 5,
     "metadata": {},
     "output_type": "execute_result"
    }
   ],
   "source": [
    "A.count(2)"
   ]
  },
  {
   "cell_type": "markdown",
   "id": "269ae331-b9b6-4db8-ade3-def1cf385c80",
   "metadata": {},
   "source": [
    "3. `reverse` - reverses a list. This operation modify a list inplace."
   ]
  },
  {
   "cell_type": "code",
   "execution_count": 13,
   "id": "f06a7c6e-3f0e-467a-8204-e15c79b732fa",
   "metadata": {},
   "outputs": [
    {
     "data": {
      "text/plain": [
       "[10, 10, True, 'c', 'Male', [5, 7], 2, 3, 2]"
      ]
     },
     "execution_count": 13,
     "metadata": {},
     "output_type": "execute_result"
    }
   ],
   "source": [
    "A.reverse()\n",
    "A"
   ]
  },
  {
   "cell_type": "markdown",
   "id": "f267e691-d7e9-456c-a5b5-56195a9758a7",
   "metadata": {},
   "source": [
    "> You can ``reverse`` a list as follows:"
   ]
  },
  {
   "cell_type": "code",
   "execution_count": 47,
   "id": "fc3744dc-0a52-467a-b3a9-018e962a1bc6",
   "metadata": {},
   "outputs": [
    {
     "data": {
      "text/plain": [
       "[6, 5, 4, 3, 2, 1]"
      ]
     },
     "execution_count": 47,
     "metadata": {},
     "output_type": "execute_result"
    }
   ],
   "source": [
    "C = C[::-1]\n",
    "C"
   ]
  },
  {
   "cell_type": "markdown",
   "id": "6613b9af-8d74-492c-8388-cb1a122007a2",
   "metadata": {},
   "source": [
    "4. `index` - this method return the index of an element in the list."
   ]
  },
  {
   "cell_type": "code",
   "execution_count": 14,
   "id": "976c5c06-d8a0-4ea7-8b78-a4e715d9e88f",
   "metadata": {},
   "outputs": [
    {
     "data": {
      "text/plain": [
       "2"
      ]
     },
     "execution_count": 14,
     "metadata": {},
     "output_type": "execute_result"
    }
   ],
   "source": [
    "A.index(True)"
   ]
  },
  {
   "cell_type": "markdown",
   "id": "df2a73ee-45dc-4e4c-a36a-ccdce1c97ca8",
   "metadata": {},
   "source": [
    "5. `insert` - This method insert an element at a given index in a list."
   ]
  },
  {
   "cell_type": "code",
   "execution_count": 15,
   "id": "ab753fc9-4184-4585-90c7-f8a20616fc74",
   "metadata": {},
   "outputs": [
    {
     "data": {
      "text/plain": [
       "['First', 10, 10, True, 'c', 'Male', [5, 7], 2, 3, 2]"
      ]
     },
     "execution_count": 15,
     "metadata": {},
     "output_type": "execute_result"
    }
   ],
   "source": [
    "A.insert(0, \"First\")\n",
    "A"
   ]
  },
  {
   "cell_type": "code",
   "execution_count": 16,
   "id": "306f0c2b-dcae-4afc-aef6-a09ab5c07b65",
   "metadata": {},
   "outputs": [
    {
     "data": {
      "text/plain": [
       "['First', 'Second', 10, 10, True, 'c', 'Male', [5, 7], 2, 3, 2]"
      ]
     },
     "execution_count": 16,
     "metadata": {},
     "output_type": "execute_result"
    }
   ],
   "source": [
    "A.insert(1, \"Second\")\n",
    "A"
   ]
  },
  {
   "cell_type": "markdown",
   "id": "2a4ccd6a-83eb-4987-8a1d-68b8a4d79602",
   "metadata": {},
   "source": [
    "6. `pop` - removes the last element in a list from a list and returns it, if the index is not specified."
   ]
  },
  {
   "cell_type": "code",
   "execution_count": 17,
   "id": "fdc1efb1-1d4a-4a0e-ae05-30bf3b6506d8",
   "metadata": {},
   "outputs": [
    {
     "name": "stdout",
     "output_type": "stream",
     "text": [
      "Second\n",
      "['First', 10, 10, True, 'c', 'Male', [5, 7], 2, 3, 2]\n"
     ]
    }
   ],
   "source": [
    "second = A.pop(1)\n",
    "print(second)\n",
    "print(A)"
   ]
  },
  {
   "cell_type": "markdown",
   "id": "b04554ef-2558-42cf-b647-d8a9f9a1b9f4",
   "metadata": {},
   "source": [
    "7. `extend` - extend a list from another iteratable/list."
   ]
  },
  {
   "cell_type": "code",
   "execution_count": 24,
   "id": "cae535d3-990d-40e1-8d03-5c3ea2216709",
   "metadata": {},
   "outputs": [
    {
     "data": {
      "text/plain": [
       "[1, 2, 3, 4, 5, 6]"
      ]
     },
     "execution_count": 24,
     "metadata": {},
     "output_type": "execute_result"
    }
   ],
   "source": [
    "C = [1, 2,3]\n",
    "D = [4, 5, 6]"
   ]
  },
  {
   "cell_type": "code",
   "execution_count": 26,
   "id": "d282a87c-aef4-4a56-901b-d77c6785eb04",
   "metadata": {},
   "outputs": [
    {
     "data": {
      "text/plain": [
       "[1, 2, 3, 4, 5, 6]"
      ]
     },
     "execution_count": 26,
     "metadata": {},
     "output_type": "execute_result"
    }
   ],
   "source": [
    "C.extend(D)\n",
    "C"
   ]
  },
  {
   "cell_type": "markdown",
   "id": "3dd2b847-2ccf-4e5c-b2ff-28392e76bd50",
   "metadata": {},
   "source": [
    "You can concatenate a list by using the `+` operator for example."
   ]
  },
  {
   "cell_type": "code",
   "execution_count": 48,
   "id": "1b6ab2ce-1c02-4b32-b55f-44453acddc68",
   "metadata": {},
   "outputs": [
    {
     "data": {
      "text/plain": [
       "[6, 5, 4, 3, 2, 1, 4, 5, 6]"
      ]
     },
     "execution_count": 48,
     "metadata": {},
     "output_type": "execute_result"
    }
   ],
   "source": [
    "C+ D"
   ]
  },
  {
   "cell_type": "markdown",
   "id": "773f04f3-c291-4fdf-b5cf-17991a7c0705",
   "metadata": {},
   "source": [
    "You can duplicate the elements in a list using the `*`."
   ]
  },
  {
   "cell_type": "code",
   "execution_count": 27,
   "id": "cb351d85-3750-4e0d-a8fc-b1dcd88e81d1",
   "metadata": {},
   "outputs": [
    {
     "data": {
      "text/plain": [
       "[1, 2, 3, 4, 5, 6, 1, 2, 3, 4, 5, 6, 1, 2, 3, 4, 5, 6]"
      ]
     },
     "execution_count": 27,
     "metadata": {},
     "output_type": "execute_result"
    }
   ],
   "source": [
    "C*3"
   ]
  },
  {
   "cell_type": "markdown",
   "id": "458aab61-a0ed-4402-af05-3bba9cb060fe",
   "metadata": {},
   "source": [
    "You can use the `len()` method to how many check the elements in a list."
   ]
  },
  {
   "cell_type": "code",
   "execution_count": 49,
   "id": "e2641f57-c488-424d-8396-687c288f6b70",
   "metadata": {},
   "outputs": [
    {
     "name": "stdout",
     "output_type": "stream",
     "text": [
      "D:  3\n"
     ]
    }
   ],
   "source": [
    "print(\"D: \", len(D))"
   ]
  },
  {
   "cell_type": "markdown",
   "id": "0e3b4632-8b55-4bfd-949f-087b2e5a24d1",
   "metadata": {},
   "source": [
    "Indexing list you use the `[]` brackets\n",
    "\n",
    "- Note that lists are 0 indexed in python meaning the first element of a list has index `0`.\n",
    "- Python allows negative index to index a list in ``reverse``."
   ]
  },
  {
   "cell_type": "code",
   "execution_count": 30,
   "id": "dc6c46dc-1cf3-4116-abc0-bb50eda16228",
   "metadata": {},
   "outputs": [
    {
     "name": "stdout",
     "output_type": "stream",
     "text": [
      "First Element:  1\n",
      "Sec Element:  2\n"
     ]
    }
   ],
   "source": [
    "print(\"First Element: \", C[0])\n",
    "print(\"Sec Element: \", C[1])"
   ]
  },
  {
   "cell_type": "code",
   "execution_count": 33,
   "id": "ece2ac52-f5f1-48a6-86bc-094e2dc421dc",
   "metadata": {},
   "outputs": [
    {
     "name": "stdout",
     "output_type": "stream",
     "text": [
      "Last Element:  6\n"
     ]
    }
   ],
   "source": [
    "print(\"Last Element: \", C[len(C)-1])"
   ]
  },
  {
   "cell_type": "code",
   "execution_count": 34,
   "id": "3463992e-c4a3-4fb6-9722-58d186f02249",
   "metadata": {},
   "outputs": [
    {
     "name": "stdout",
     "output_type": "stream",
     "text": [
      "Last Element:  6\n",
      "Second Last Element:  5\n"
     ]
    }
   ],
   "source": [
    "print(\"Last Element: \", C[-1])\n",
    "print(\"Second Last Element: \", C[-2])"
   ]
  },
  {
   "cell_type": "markdown",
   "id": "c60ece09-3c65-4630-9ef6-3a919d533b0d",
   "metadata": {},
   "source": [
    "You can do list slicing in python using the `[min:max]` where min and max are index which are the minimum and maximum index of elements that you want to slice in a python list. \n",
    "\n",
    "> 🤔 Note that  element at `max` is not included when indexing, which means elements can be index from ``min`` to `max-1`"
   ]
  },
  {
   "cell_type": "code",
   "execution_count": 36,
   "id": "dc8e37d4-5799-4c92-90d8-41cba8daece5",
   "metadata": {},
   "outputs": [
    {
     "data": {
      "text/plain": [
       "[1, 2, 3]"
      ]
     },
     "execution_count": 36,
     "metadata": {},
     "output_type": "execute_result"
    }
   ],
   "source": [
    "C[0:3]"
   ]
  },
  {
   "cell_type": "code",
   "execution_count": 38,
   "id": "58f78c26-e5c3-432e-82aa-03ca2373cf75",
   "metadata": {},
   "outputs": [
    {
     "data": {
      "text/plain": [
       "[3, 4, 5]"
      ]
     },
     "execution_count": 38,
     "metadata": {},
     "output_type": "execute_result"
    }
   ],
   "source": [
    "C[-4:-1]"
   ]
  },
  {
   "cell_type": "code",
   "execution_count": 39,
   "id": "a43b9396-3280-4d34-a605-9fa55f8629fb",
   "metadata": {},
   "outputs": [
    {
     "data": {
      "text/plain": [
       "[2, 3, 4, 5, 6]"
      ]
     },
     "execution_count": 39,
     "metadata": {},
     "output_type": "execute_result"
    }
   ],
   "source": [
    "C[1:]"
   ]
  },
  {
   "cell_type": "markdown",
   "id": "4206b804-00a6-4c01-95ff-828e5213d62a",
   "metadata": {},
   "source": [
    "List comprehension is a useful feature of python list that allows you to modify or filter elements in a list."
   ]
  },
  {
   "cell_type": "code",
   "execution_count": 41,
   "id": "52389ce3-0bf7-4d98-bb2e-007155fab811",
   "metadata": {},
   "outputs": [
    {
     "data": {
      "text/plain": [
       "[2, 4, 6, 8, 10, 12]"
      ]
     },
     "execution_count": 41,
     "metadata": {},
     "output_type": "execute_result"
    }
   ],
   "source": [
    "[i * 2 for i in C]"
   ]
  },
  {
   "cell_type": "code",
   "execution_count": 44,
   "id": "570b09ff-1b13-4e39-ad71-f80da38df266",
   "metadata": {},
   "outputs": [
    {
     "data": {
      "text/plain": [
       "[2, 2, 6, 4, 10, 6]"
      ]
     },
     "execution_count": 44,
     "metadata": {},
     "output_type": "execute_result"
    }
   ],
   "source": [
    "[i * 2 if i %2 == 1 else i for i in C]"
   ]
  },
  {
   "cell_type": "markdown",
   "id": "e21edf8a-ecb4-4fa9-9064-7e50326e6e7b",
   "metadata": {},
   "source": [
    "### 2. Tuples\n",
    "\n",
    "An ordered, immutable collection that allows duplicates.\n",
    "\n",
    "\n",
    "You can create a tuple in python using two sythax wich are:\r\n"
   ]
  },
  {
   "cell_type": "code",
   "execution_count": 55,
   "id": "c5b39150-cc1e-4ef1-a9c9-faf2cd897488",
   "metadata": {},
   "outputs": [
    {
     "data": {
      "text/plain": [
       "('H', 'e', 'l', 'l', 'o', ',', ' ', 'T', 'h', 'e', 'r', 'e')"
      ]
     },
     "execution_count": 55,
     "metadata": {},
     "output_type": "execute_result"
    }
   ],
   "source": [
    "t1 = 'a', 'b', 'c', 'd', 'e'\n",
    "t2 = (2, 3, True, [8, 8])\n",
    "\n",
    "t10 = tuple(\"Hello, There\")\n",
    "\n",
    "t10"
   ]
  },
  {
   "cell_type": "code",
   "execution_count": 53,
   "id": "ac376cf9-2f60-4f9d-b6dd-937af2f65708",
   "metadata": {},
   "outputs": [
    {
     "data": {
      "text/plain": [
       "tuple"
      ]
     },
     "execution_count": 53,
     "metadata": {},
     "output_type": "execute_result"
    }
   ],
   "source": [
    "type(t1)"
   ]
  },
  {
   "cell_type": "markdown",
   "id": "2d239b2e-0b42-4ebe-b4e3-8a1f774ad256",
   "metadata": {},
   "source": [
    "To create a turple with as single element you can do it as follows:\n"
   ]
  },
  {
   "cell_type": "code",
   "execution_count": 8,
   "id": "8244f64e-4994-467c-bb42-09f13a08d30f",
   "metadata": {},
   "outputs": [
    {
     "data": {
      "text/plain": [
       "tuple"
      ]
     },
     "execution_count": 8,
     "metadata": {},
     "output_type": "execute_result"
    }
   ],
   "source": [
    "t3 = (3, )\n",
    "# or\n",
    "t4 = 3,\n",
    "# empty tuple\n",
    "t5 = ()\n",
    "\n",
    "type(t5)"
   ]
  },
  {
   "cell_type": "markdown",
   "id": "ce4dfb6f-9eda-4a56-9641-9f466a83a8b3",
   "metadata": {},
   "source": [
    "> 📖 Tuples are imutable meaning that you can't change the elements of it unlike a python list.\n",
    "\n",
    "You can concatenate tuples"
   ]
  },
  {
   "cell_type": "code",
   "execution_count": 9,
   "id": "19fb52a8-cf87-4d1b-9de2-66d1a57b08bb",
   "metadata": {},
   "outputs": [
    {
     "data": {
      "text/plain": [
       "(9, 2, 3, 8)"
      ]
     },
     "execution_count": 9,
     "metadata": {},
     "output_type": "execute_result"
    }
   ],
   "source": [
    "t6 = 9,\n",
    "t7 = (2, 3, 8)\n",
    "\n",
    "t8 = t6 + t7\n",
    "t8"
   ]
  },
  {
   "cell_type": "markdown",
   "id": "16254993-c5d5-4ee6-8090-3e7d1f7db15b",
   "metadata": {},
   "source": [
    "You can check the size of a tuple using the `len` function as follows:"
   ]
  },
  {
   "cell_type": "code",
   "execution_count": 10,
   "id": "5e0116a2-e486-4d77-b2ef-c261dd28c634",
   "metadata": {},
   "outputs": [
    {
     "name": "stdout",
     "output_type": "stream",
     "text": [
      "Size:  4\n"
     ]
    }
   ],
   "source": [
    "size = len(t8)\n",
    "print(\"Size: \", size)"
   ]
  },
  {
   "cell_type": "markdown",
   "id": "bf2123b8-6215-4daa-a8ab-3dc67f59b329",
   "metadata": {},
   "source": [
    "You can reverse a tuple use `[::-1]`  or the `reversed()` python method as follows:"
   ]
  },
  {
   "cell_type": "code",
   "execution_count": 11,
   "id": "69b5b281-532c-44e1-948d-2e1aac48c6f1",
   "metadata": {},
   "outputs": [
    {
     "data": {
      "text/plain": [
       "(8, 3, 2, 9)"
      ]
     },
     "execution_count": 11,
     "metadata": {},
     "output_type": "execute_result"
    }
   ],
   "source": [
    "t8[::-1]"
   ]
  },
  {
   "cell_type": "code",
   "execution_count": 13,
   "id": "244287ff-3a34-4d47-b83a-a081ffcc1c61",
   "metadata": {},
   "outputs": [
    {
     "data": {
      "text/plain": [
       "(8, 3, 2, 9)"
      ]
     },
     "execution_count": 13,
     "metadata": {},
     "output_type": "execute_result"
    }
   ],
   "source": [
    "tuple(reversed(t8))"
   ]
  },
  {
   "cell_type": "markdown",
   "id": "aa30467b-4795-490d-aa35-82ca5cfdd1c1",
   "metadata": {},
   "source": [
    "You can index tuples just the way you index python list, bellow are examples of indexing tuples in python."
   ]
  },
  {
   "cell_type": "code",
   "execution_count": 14,
   "id": "6f751b03-fc68-4a11-b87a-49aa81ce2f69",
   "metadata": {},
   "outputs": [
    {
     "data": {
      "text/plain": [
       "9"
      ]
     },
     "execution_count": 14,
     "metadata": {},
     "output_type": "execute_result"
    }
   ],
   "source": [
    "t8[0]"
   ]
  },
  {
   "cell_type": "code",
   "execution_count": 15,
   "id": "e7dcd653-0df3-4355-a25a-eeb929fb74bd",
   "metadata": {},
   "outputs": [
    {
     "data": {
      "text/plain": [
       "3"
      ]
     },
     "execution_count": 15,
     "metadata": {},
     "output_type": "execute_result"
    }
   ],
   "source": [
    "t8[-2]"
   ]
  },
  {
   "cell_type": "code",
   "execution_count": 16,
   "id": "33c34665-a6c6-4a2a-af55-44f8d9927c8f",
   "metadata": {},
   "outputs": [
    {
     "data": {
      "text/plain": [
       "(2, 3, 8)"
      ]
     },
     "execution_count": 16,
     "metadata": {},
     "output_type": "execute_result"
    }
   ],
   "source": [
    "t8[-3: ]"
   ]
  },
  {
   "cell_type": "markdown",
   "id": "b521ea8b-b600-47ef-af38-e37dd169b869",
   "metadata": {},
   "source": [
    "The following is an example of where tuples can be used:\n",
    "\n",
    "1. fuction return."
   ]
  },
  {
   "cell_type": "code",
   "execution_count": 19,
   "id": "deb76833-88a1-403c-b06f-22c2973b5316",
   "metadata": {},
   "outputs": [
    {
     "name": "stdout",
     "output_type": "stream",
     "text": [
      "Sum:  -14\n",
      "Numbers:  [5, -19]\n"
     ]
    }
   ],
   "source": [
    "def sum_numbers_and_return_numbers(a, b):\n",
    "    return a+b, [a, b]\n",
    "\n",
    "\n",
    "sum, numbers = sum_numbers_and_return_numbers(5, -19)\n",
    "\n",
    "print(\"Sum: \", sum)\n",
    "print(\"Numbers: \", numbers)"
   ]
  },
  {
   "cell_type": "markdown",
   "id": "9e3c12dd-223a-49ac-9196-f34ddb4d6ce3",
   "metadata": {},
   "source": [
    "### 3. Dictionaries\n",
    "\n",
    "An unordered collection of key-value pairs, where keys are unique.\r\n",
    "\n",
    "You can create an empty dictionary by using the `{}`\n"
   ]
  },
  {
   "cell_type": "code",
   "execution_count": 21,
   "id": "aea60b45-41d8-4943-ba05-2fd41837a729",
   "metadata": {},
   "outputs": [
    {
     "data": {
      "text/plain": [
       "dict"
      ]
     },
     "execution_count": 21,
     "metadata": {},
     "output_type": "execute_result"
    }
   ],
   "source": [
    "empty_dict = {}\n",
    "type(empty_dict)"
   ]
  },
  {
   "cell_type": "markdown",
   "id": "2e6ba34c-8b5b-4ea9-9da4-584152109540",
   "metadata": {},
   "source": [
    "In the following example we are going to create the `user` dictionary with some user's information."
   ]
  },
  {
   "cell_type": "code",
   "execution_count": 22,
   "id": "8d958dfa-19ba-4ea0-a000-4db4ad123ee0",
   "metadata": {},
   "outputs": [
    {
     "data": {
      "text/plain": [
       "{'name': 'Jonh',\n",
       " 'surname': 'Doe',\n",
       " 'age': 67,\n",
       " 'gender': 'M',\n",
       " 'fav': ['soccer', 'green', 'cooking']}"
      ]
     },
     "execution_count": 22,
     "metadata": {},
     "output_type": "execute_result"
    }
   ],
   "source": [
    "user = {\n",
    "    'name': \"Jonh\", \"surname\": \"Doe\", \"age\": 67, \"gender\": \"M\", \"fav\": [\"soccer\", \"green\", \"cooking\"]\n",
    "}\n",
    "user"
   ]
  },
  {
   "cell_type": "markdown",
   "id": "a41ba3ac-a53f-46a8-a53e-c429a1281c64",
   "metadata": {},
   "source": [
    "You can use the `len` function to check the number of keys in a `dictionary`"
   ]
  },
  {
   "cell_type": "code",
   "execution_count": 23,
   "id": "1471fdbf-ee1e-4612-b4dd-44e6935531d8",
   "metadata": {},
   "outputs": [
    {
     "data": {
      "text/plain": [
       "5"
      ]
     },
     "execution_count": 23,
     "metadata": {},
     "output_type": "execute_result"
    }
   ],
   "source": [
    "len(user)"
   ]
  },
  {
   "cell_type": "markdown",
   "id": "7308a7e2-1449-403d-aa08-b8182b802b44",
   "metadata": {},
   "source": [
    "To access the elements of a dictionary you use the `get(key)` or the `[key]` sythax\n",
    "\n",
    "> 😒 Note that the `get` method does not raise a key error if the key does not exists it returns none instead.\n"
   ]
  },
  {
   "cell_type": "code",
   "execution_count": 24,
   "id": "63d8e54a-341c-4551-8c4a-acbd43e2d6b7",
   "metadata": {},
   "outputs": [
    {
     "data": {
      "text/plain": [
       "'Jonh'"
      ]
     },
     "execution_count": 24,
     "metadata": {},
     "output_type": "execute_result"
    }
   ],
   "source": [
    "user['name']"
   ]
  },
  {
   "cell_type": "code",
   "execution_count": 25,
   "id": "ba039cca-cdee-4aba-a87f-dd8eba69054b",
   "metadata": {},
   "outputs": [
    {
     "data": {
      "text/plain": [
       "67"
      ]
     },
     "execution_count": 25,
     "metadata": {},
     "output_type": "execute_result"
    }
   ],
   "source": [
    "user.get(\"age\")"
   ]
  },
  {
   "cell_type": "markdown",
   "id": "0975e17b-2e22-442c-8be4-e05d03195399",
   "metadata": {},
   "source": [
    "You can avoid `KeyError` by using `try` and `catch` when accessing elements of a dictionary."
   ]
  },
  {
   "cell_type": "code",
   "execution_count": 29,
   "id": "0b183c09-b93b-41eb-b395-32ddaaa3c116",
   "metadata": {},
   "outputs": [
    {
     "name": "stdout",
     "output_type": "stream",
     "text": [
      "'location' is not a key in user\n"
     ]
    }
   ],
   "source": [
    "try:\n",
    "    print(user['location'])\n",
    "except KeyError:\n",
    "    print(\"'location' is not a key in user\")"
   ]
  },
  {
   "cell_type": "markdown",
   "id": "b7260c22-3549-4fe5-bbf4-55c6e0efd096",
   "metadata": {},
   "source": [
    "You can check the dictionary keys by using the `keys()` method."
   ]
  },
  {
   "cell_type": "code",
   "execution_count": 30,
   "id": "b618658d-0d5b-40d3-bfd8-df42ee772cf4",
   "metadata": {},
   "outputs": [
    {
     "data": {
      "text/plain": [
       "dict_keys(['name', 'surname', 'age', 'gender', 'fav'])"
      ]
     },
     "execution_count": 30,
     "metadata": {},
     "output_type": "execute_result"
    }
   ],
   "source": [
    "user.keys()"
   ]
  },
  {
   "cell_type": "markdown",
   "id": "85debeab-2027-4eb4-be8a-2fffaf8e0a49",
   "metadata": {},
   "source": [
    "You can check the dictionary valued by using the `values()` method."
   ]
  },
  {
   "cell_type": "code",
   "execution_count": 32,
   "id": "8d4c3469-1770-45a8-be20-e2c50eba7211",
   "metadata": {},
   "outputs": [
    {
     "data": {
      "text/plain": [
       "dict_values(['Jonh', 'Doe', 67, 'M', ['soccer', 'green', 'cooking']])"
      ]
     },
     "execution_count": 32,
     "metadata": {},
     "output_type": "execute_result"
    }
   ],
   "source": [
    "user.values()"
   ]
  },
  {
   "cell_type": "code",
   "execution_count": 33,
   "id": "1255a4b3-b4fd-4211-8817-5348931735dc",
   "metadata": {},
   "outputs": [
    {
     "name": "stdout",
     "output_type": "stream",
     "text": [
      "'location' is not a key in user\n"
     ]
    }
   ],
   "source": [
    "key = 'location'\n",
    "print(user[key] if key in user.keys() else \"'location' is not a key in user\")"
   ]
  },
  {
   "cell_type": "markdown",
   "id": "aceedbb0-321f-4453-9cef-25216cd45413",
   "metadata": {},
   "source": [
    "You can use the `items()` to get the keys and values of a dictionary as a tuple of elements where the first element represent a key and the second element is a value that correcpond to that key.\n",
    "\n",
    "> The following example demostate how you can iterate over dictionary elements."
   ]
  },
  {
   "cell_type": "code",
   "execution_count": 40,
   "id": "508853e8-6b07-4726-9533-c392fec2a2cf",
   "metadata": {},
   "outputs": [
    {
     "name": "stdout",
     "output_type": "stream",
     "text": [
      "NAME\t: Jonh\n",
      "SURNAME\t: Doe\n",
      "AGE\t: 67\n",
      "GENDER\t: M\n",
      "FAV\t: soccer, green, cooking\n"
     ]
    }
   ],
   "source": [
    "\n",
    "for key, value in user.items():\n",
    "    computed = ', '.join(value) if isinstance(value, list) else value\n",
    "    print(f\"{key.upper()}\\t: {computed}\")\n"
   ]
  },
  {
   "cell_type": "markdown",
   "id": "eb6cf722-0e00-4d0a-9bba-e895f032c7ae",
   "metadata": {},
   "source": [
    "You can medge two or more dictionaries using the `**` operator, bellow is the example that demostrate that."
   ]
  },
  {
   "cell_type": "code",
   "execution_count": 41,
   "id": "b5003ceb-326f-4daf-8bd5-e3c33606b627",
   "metadata": {},
   "outputs": [
    {
     "data": {
      "text/plain": [
       "{'name': 'Jonh',\n",
       " 'surname': 'Doe',\n",
       " 'age': 67,\n",
       " 'gender': 'M',\n",
       " 'fav': ['soccer', 'green', 'cooking'],\n",
       " 'location': 'London',\n",
       " 'dob': 1997}"
      ]
     },
     "execution_count": 41,
     "metadata": {},
     "output_type": "execute_result"
    }
   ],
   "source": [
    "other_stuff = {\"location\": \"London\", \"dob\": 1997}\n",
    "\n",
    "full_user = {**user, **other_stuff}\n",
    "full_user"
   ]
  },
  {
   "cell_type": "markdown",
   "id": "e5443706-a406-4b50-ad51-e36e4dcca24d",
   "metadata": {},
   "source": [
    "You can convert a list of `tuples` into a dictionary. In the following example we demostrate how that can be done."
   ]
  },
  {
   "cell_type": "code",
   "execution_count": 43,
   "id": "b3936909-3412-44e1-a833-f3fc8191ed92",
   "metadata": {},
   "outputs": [
    {
     "data": {
      "text/plain": [
       "[('a', 1), ('b', 2), ('c', 3)]"
      ]
     },
     "execution_count": 43,
     "metadata": {},
     "output_type": "execute_result"
    }
   ],
   "source": [
    "named_numbers = [(\"a\", 1), (\"b\", 2), (\"c\", 3)]\n",
    "named_numbers"
   ]
  },
  {
   "cell_type": "code",
   "execution_count": 44,
   "id": "edcb803d-89af-4ab1-b00b-e1d95d54e4fa",
   "metadata": {},
   "outputs": [
    {
     "data": {
      "text/plain": [
       "{'a': 1, 'b': 2, 'c': 3}"
      ]
     },
     "execution_count": 44,
     "metadata": {},
     "output_type": "execute_result"
    }
   ],
   "source": [
    "dict(named_numbers)"
   ]
  },
  {
   "cell_type": "markdown",
   "id": "acbf5c75-9a0e-4e59-bf4e-4a714070eafa",
   "metadata": {},
   "source": [
    "Let's say we have a function called `dog` which we don't know how many positional, args and `key word args` it will take. We can use the following sythax in the function signature:\n",
    "\n",
    "```py\n",
    "def dogs(name, *args, **kwargs):pass\n",
    "```\n",
    "Where:\n",
    "1. `name` - is a required argument\n",
    "2. `args` - will be a tuple of arguments that will be passed without names.\n",
    "3. `kwargs` - will be the named args that will be passed to this function.\n",
    "\n",
    "**Example**"
   ]
  },
  {
   "cell_type": "code",
   "execution_count": 72,
   "id": "43b5014c-6496-4c63-be1c-f2be9b7de394",
   "metadata": {},
   "outputs": [
    {
     "name": "stdout",
     "output_type": "stream",
     "text": [
      "name:  Me\n",
      "args:  (5, True)\n",
      "kwargs:  {'username': 'username', 'age': 10, 'ower': 'John'}\n"
     ]
    }
   ],
   "source": [
    "def dogs(name, *args, **kwargs):\n",
    "    print(\"name: \", name)\n",
    "    print(\"args: \", args)\n",
    "    print(\"kwargs: \", kwargs)\n",
    "dogs(\"Me\", 5, True, username=\"username\", age=10, ower= \"John\")"
   ]
  },
  {
   "cell_type": "markdown",
   "id": "91d76516-f302-4f0a-b7ef-3fbc488ddd36",
   "metadata": {},
   "source": [
    "### 4. Sets\n",
    "\n",
    "An unordered collection of unique elements.\n",
    "\n",
    "You can create a set using the `{}` brackets\r\n"
   ]
  },
  {
   "cell_type": "code",
   "execution_count": 58,
   "id": "073a4b42-a608-4f73-93cf-0dded3e459b5",
   "metadata": {},
   "outputs": [
    {
     "data": {
      "text/plain": [
       "set"
      ]
     },
     "execution_count": 58,
     "metadata": {},
     "output_type": "execute_result"
    }
   ],
   "source": [
    "A = {1, 2, 3, 4, 4, 5, 6, 7}\n",
    "B = {2, 4, 6, 8}\n",
    "type(A)"
   ]
  },
  {
   "cell_type": "markdown",
   "id": "f0fb2a4b-fe60-4e82-b9e4-139b9f57ca5c",
   "metadata": {},
   "source": [
    "Unlike when creating a dictionary where you use `{}` for an empty dictionary for a set if you want to create an empty set you should use the `set()` method."
   ]
  },
  {
   "cell_type": "code",
   "execution_count": 73,
   "id": "b6e0bf73-dfcf-4f6e-9b96-18cd18b8896b",
   "metadata": {},
   "outputs": [
    {
     "name": "stdout",
     "output_type": "stream",
     "text": [
      "set()\n"
     ]
    }
   ],
   "source": [
    "empty_s = set()\n",
    "print(empty_s)"
   ]
  },
  {
   "cell_type": "markdown",
   "id": "031bb15f-c6b0-41c6-8513-8224ca70d86e",
   "metadata": {},
   "source": [
    "You can remove duplicate from a collection using the `set` method. Let's remove some duplicates in a list of characters."
   ]
  },
  {
   "cell_type": "code",
   "execution_count": 59,
   "id": "5a161a32-4fa5-4d63-bda0-4cf5e5416970",
   "metadata": {},
   "outputs": [
    {
     "data": {
      "text/plain": [
       "['h', 'e', 'l', 'l', 'o']"
      ]
     },
     "execution_count": 59,
     "metadata": {},
     "output_type": "execute_result"
    }
   ],
   "source": [
    "name = list(\"hello\")\n",
    "name"
   ]
  },
  {
   "cell_type": "code",
   "execution_count": 61,
   "id": "44aafdee-1919-4898-9b5d-0734cb1118d2",
   "metadata": {},
   "outputs": [
    {
     "data": {
      "text/plain": [
       "['h', 'l', 'e', 'o']"
      ]
     },
     "execution_count": 61,
     "metadata": {},
     "output_type": "execute_result"
    }
   ],
   "source": [
    "list(set(name))"
   ]
  },
  {
   "cell_type": "markdown",
   "id": "3e8f7682-ecc6-4c2f-b6dc-dd045ac831f4",
   "metadata": {},
   "source": [
    "**Set intersection**"
   ]
  },
  {
   "cell_type": "code",
   "execution_count": 62,
   "id": "697eefb5-f1d7-4f98-be60-65ebe9ccb337",
   "metadata": {},
   "outputs": [
    {
     "data": {
      "text/plain": [
       "{2, 4, 6}"
      ]
     },
     "execution_count": 62,
     "metadata": {},
     "output_type": "execute_result"
    }
   ],
   "source": [
    "A & B"
   ]
  },
  {
   "cell_type": "code",
   "execution_count": 64,
   "id": "6e59f489-3751-451b-8746-26d23eedb238",
   "metadata": {},
   "outputs": [
    {
     "data": {
      "text/plain": [
       "{2, 4, 6}"
      ]
     },
     "execution_count": 64,
     "metadata": {},
     "output_type": "execute_result"
    }
   ],
   "source": [
    "A.intersection(B)"
   ]
  },
  {
   "cell_type": "markdown",
   "id": "6e68c9c2-991a-41f5-bd9b-9b34114205e0",
   "metadata": {},
   "source": [
    "**Set Union**"
   ]
  },
  {
   "cell_type": "code",
   "execution_count": 65,
   "id": "70a2f8f4-a6bb-4104-aa38-8966587968cb",
   "metadata": {},
   "outputs": [
    {
     "data": {
      "text/plain": [
       "{1, 2, 3, 4, 5, 6, 7, 8}"
      ]
     },
     "execution_count": 65,
     "metadata": {},
     "output_type": "execute_result"
    }
   ],
   "source": [
    "A.union(B)"
   ]
  },
  {
   "cell_type": "code",
   "execution_count": 66,
   "id": "426771ea-363c-4861-a079-331be0f4d775",
   "metadata": {},
   "outputs": [
    {
     "data": {
      "text/plain": [
       "{1, 2, 3, 4, 5, 6, 7, 8}"
      ]
     },
     "execution_count": 66,
     "metadata": {},
     "output_type": "execute_result"
    }
   ],
   "source": [
    "A | B"
   ]
  },
  {
   "cell_type": "markdown",
   "id": "ccdb2dc4-e4ee-4ee9-b3f4-334109cdb3a8",
   "metadata": {},
   "source": [
    "You can use the `in` method to check if the element exists in a set or not."
   ]
  },
  {
   "cell_type": "code",
   "execution_count": 68,
   "id": "a8da95b3-1bad-4b92-9c01-fdbadb21593c",
   "metadata": {},
   "outputs": [
    {
     "data": {
      "text/plain": [
       "True"
      ]
     },
     "execution_count": 68,
     "metadata": {},
     "output_type": "execute_result"
    }
   ],
   "source": [
    "1 in A"
   ]
  },
  {
   "cell_type": "markdown",
   "id": "7f400d05-a8fc-4958-9162-0f5c649603e6",
   "metadata": {},
   "source": [
    "You can use the `len` method to check the size or number of elements in a `set`."
   ]
  },
  {
   "cell_type": "code",
   "execution_count": 69,
   "id": "b44739ad-7f06-49ae-aecf-4ba49f1859f8",
   "metadata": {},
   "outputs": [
    {
     "data": {
      "text/plain": [
       "7"
      ]
     },
     "execution_count": 69,
     "metadata": {},
     "output_type": "execute_result"
    }
   ],
   "source": [
    "len(A)"
   ]
  },
  {
   "cell_type": "markdown",
   "id": "28db5038-7fe6-4195-99f8-11f858b9e61b",
   "metadata": {},
   "source": [
    "### 5. String\n",
    "\n",
    "An ordered, immutable sequence of characters.\r\n"
   ]
  },
  {
   "cell_type": "code",
   "execution_count": 1,
   "id": "a85d3928-3cc8-47dd-a7a9-b2ff38e37449",
   "metadata": {},
   "outputs": [
    {
     "data": {
      "text/plain": [
       "str"
      ]
     },
     "execution_count": 1,
     "metadata": {},
     "output_type": "execute_result"
    }
   ],
   "source": [
    "string = \"This cat is awesome!\"\n",
    "type(string)"
   ]
  },
  {
   "cell_type": "markdown",
   "id": "167a3880-51b1-4099-9aad-4c66e31d9db6",
   "metadata": {},
   "source": [
    "The `upper` method converts the string to upercase."
   ]
  },
  {
   "cell_type": "code",
   "execution_count": 2,
   "id": "4a379e86-c093-403a-bb50-24c2018c1cde",
   "metadata": {},
   "outputs": [
    {
     "data": {
      "text/plain": [
       "'THIS CAT IS AWESOME!'"
      ]
     },
     "execution_count": 2,
     "metadata": {},
     "output_type": "execute_result"
    }
   ],
   "source": [
    "string.upper()"
   ]
  },
  {
   "cell_type": "markdown",
   "id": "259c7d4b-8b01-49b9-80ac-4640be0fa840",
   "metadata": {},
   "source": [
    "The `lower` method converts the string to lower."
   ]
  },
  {
   "cell_type": "code",
   "execution_count": 3,
   "id": "314f5e24-973f-4e22-b60c-ab45c5a65725",
   "metadata": {},
   "outputs": [
    {
     "data": {
      "text/plain": [
       "'this cat is awesome!'"
      ]
     },
     "execution_count": 3,
     "metadata": {},
     "output_type": "execute_result"
    }
   ],
   "source": [
    "string.lower()"
   ]
  },
  {
   "cell_type": "markdown",
   "id": "1a7caead-ca20-40ba-a8b2-edb5b2266259",
   "metadata": {},
   "source": [
    "The `swapcase` method swaps the case in a string."
   ]
  },
  {
   "cell_type": "code",
   "execution_count": 4,
   "id": "18b0e896-0007-41e2-9cef-5f1823711b44",
   "metadata": {},
   "outputs": [
    {
     "data": {
      "text/plain": [
       "'tHIS CAT IS AWESOME!'"
      ]
     },
     "execution_count": 4,
     "metadata": {},
     "output_type": "execute_result"
    }
   ],
   "source": [
    "string.swapcase()"
   ]
  },
  {
   "cell_type": "markdown",
   "id": "59b2ba22-25a2-42ea-b458-630105dd3093",
   "metadata": {},
   "source": [
    "The `capitalize` converts the first character of a string to uppercase."
   ]
  },
  {
   "cell_type": "code",
   "execution_count": 6,
   "id": "d4c8cd74-5a9c-45de-98ad-6657a0ec4ce0",
   "metadata": {},
   "outputs": [
    {
     "data": {
      "text/plain": [
       "'This is a cat'"
      ]
     },
     "execution_count": 6,
     "metadata": {},
     "output_type": "execute_result"
    }
   ],
   "source": [
    "\"this is a cat\".capitalize()"
   ]
  },
  {
   "cell_type": "markdown",
   "id": "9bcf6ba1-cb05-452d-acf2-14149ac87e5b",
   "metadata": {},
   "source": [
    "The `title` method, convert the first character of each word to capital later in the whole string."
   ]
  },
  {
   "cell_type": "code",
   "execution_count": 8,
   "id": "f90bd2f6-a32c-4dbc-85f3-6d85d1b15b1a",
   "metadata": {},
   "outputs": [
    {
     "data": {
      "text/plain": [
       "'This Cat Is Awesome!'"
      ]
     },
     "execution_count": 8,
     "metadata": {},
     "output_type": "execute_result"
    }
   ],
   "source": [
    "string.title()"
   ]
  },
  {
   "cell_type": "markdown",
   "id": "5ccbb873-03c4-4558-8e66-563fc8f92c8c",
   "metadata": {},
   "source": [
    "> ℹ️ This can also be done as follows."
   ]
  },
  {
   "cell_type": "code",
   "execution_count": 9,
   "id": "e8dd60b3-a64d-4138-9de9-ae3ecb807fb9",
   "metadata": {},
   "outputs": [
    {
     "data": {
      "text/plain": [
       "'This Cat Is Awesome!'"
      ]
     },
     "execution_count": 9,
     "metadata": {},
     "output_type": "execute_result"
    }
   ],
   "source": [
    "\" \".join([i .capitalize() for i in string.split()])"
   ]
  },
  {
   "cell_type": "markdown",
   "id": "0cdf9f6f-c1a7-40c7-b2cc-c342576c332c",
   "metadata": {},
   "source": [
    "The `casfold` fold the case of a string."
   ]
  },
  {
   "cell_type": "code",
   "execution_count": 10,
   "id": "42c3f422-3cef-45ae-933c-1a4ac65256b3",
   "metadata": {},
   "outputs": [
    {
     "data": {
      "text/plain": [
       "'this cat is awesome!'"
      ]
     },
     "execution_count": 10,
     "metadata": {},
     "output_type": "execute_result"
    }
   ],
   "source": [
    "string.casefold()"
   ]
  },
  {
   "cell_type": "markdown",
   "id": "dec28c21-4022-47d5-853c-8c6b57e424a5",
   "metadata": {},
   "source": [
    "You can concatenate strings using the `+` operator."
   ]
  },
  {
   "cell_type": "code",
   "execution_count": 12,
   "id": "3ae57f3a-02d3-462b-a0a6-705aa43a9769",
   "metadata": {},
   "outputs": [],
   "source": [
    "a = \"cat\"\n",
    "b = \"dog\""
   ]
  },
  {
   "cell_type": "code",
   "execution_count": 14,
   "id": "29c74a21-ba3b-422e-b7eb-4f61f2a0d955",
   "metadata": {},
   "outputs": [
    {
     "data": {
      "text/plain": [
       "'cat dog'"
      ]
     },
     "execution_count": 14,
     "metadata": {},
     "output_type": "execute_result"
    }
   ],
   "source": [
    "a + \" \"+ b"
   ]
  },
  {
   "cell_type": "markdown",
   "id": "d0887540-96e1-4db7-ae0f-0215a6ddc3c3",
   "metadata": {},
   "source": [
    "The `strip()` method is used to remove white characters from left and right in a string."
   ]
  },
  {
   "cell_type": "code",
   "execution_count": 19,
   "id": "dfcb9f6c-81eb-4f56-ac34-b5ab7f6c5060",
   "metadata": {},
   "outputs": [
    {
     "data": {
      "text/plain": [
       "'    bye   '"
      ]
     },
     "execution_count": 19,
     "metadata": {},
     "output_type": "execute_result"
    }
   ],
   "source": [
    "c = \"    bye   \"\n",
    "c"
   ]
  },
  {
   "cell_type": "code",
   "execution_count": 20,
   "id": "453a17eb-bfb7-493a-8a42-e79ffdceb3d6",
   "metadata": {},
   "outputs": [
    {
     "data": {
      "text/plain": [
       "'bye'"
      ]
     },
     "execution_count": 20,
     "metadata": {},
     "output_type": "execute_result"
    }
   ],
   "source": [
    "c.strip()"
   ]
  },
  {
   "cell_type": "markdown",
   "id": "9896cadd-2e14-4840-b9f9-5aeadb2959ae",
   "metadata": {},
   "source": [
    "The `lstrip()` method is used to remove white characters from left in a string."
   ]
  },
  {
   "cell_type": "code",
   "execution_count": 35,
   "id": "d104648a-1068-4898-bcdf-768177a5b959",
   "metadata": {},
   "outputs": [
    {
     "data": {
      "text/plain": [
       "'bye   '"
      ]
     },
     "execution_count": 35,
     "metadata": {},
     "output_type": "execute_result"
    }
   ],
   "source": [
    "c.lstrip()"
   ]
  },
  {
   "cell_type": "markdown",
   "id": "6f139545-f6a2-43af-9476-34d92b4004a2",
   "metadata": {},
   "source": [
    "The `rstrip()` method is used to remove white characters from right in a string."
   ]
  },
  {
   "cell_type": "code",
   "execution_count": 36,
   "id": "78b5f395-57c7-44d1-9c84-3b11faeeff47",
   "metadata": {},
   "outputs": [
    {
     "data": {
      "text/plain": [
       "'    bye'"
      ]
     },
     "execution_count": 36,
     "metadata": {},
     "output_type": "execute_result"
    }
   ],
   "source": [
    "c.rstrip()"
   ]
  },
  {
   "cell_type": "markdown",
   "id": "aecdf8e3-665c-4b03-bd57-714e555f9e4f",
   "metadata": {},
   "source": [
    "The `center` method is used to center a string in python."
   ]
  },
  {
   "cell_type": "code",
   "execution_count": 46,
   "id": "513b0849-e9e8-4d32-9122-a30165652db4",
   "metadata": {},
   "outputs": [
    {
     "data": {
      "text/plain": [
       "'--center--'"
      ]
     },
     "execution_count": 46,
     "metadata": {},
     "output_type": "execute_result"
    }
   ],
   "source": [
    "\"center\".center(10, '-')"
   ]
  },
  {
   "cell_type": "markdown",
   "id": "b9863473-5c6f-49ca-9717-0c41bf97af9b",
   "metadata": {},
   "source": [
    "The `split` method is used to split strings into a list of words using a delimeter, the default delimeter is `space`"
   ]
  },
  {
   "cell_type": "code",
   "execution_count": 48,
   "id": "d64b884e-0bcd-4b16-a41a-c6d696f25d8c",
   "metadata": {},
   "outputs": [
    {
     "data": {
      "text/plain": [
       "['This', 'cat', 'is', 'awesome!']"
      ]
     },
     "execution_count": 48,
     "metadata": {},
     "output_type": "execute_result"
    }
   ],
   "source": [
    "splitted = string.split()\n",
    "splitted"
   ]
  },
  {
   "cell_type": "markdown",
   "id": "634ad7a3-6fd8-49c8-a0fe-952149f0672a",
   "metadata": {},
   "source": [
    "If you want to convert a string into a list of characters you use the `list` method."
   ]
  },
  {
   "cell_type": "code",
   "execution_count": 53,
   "id": "8914e64b-dd0b-48ec-b8cb-f547de35e229",
   "metadata": {},
   "outputs": [
    {
     "data": {
      "text/plain": [
       "['h', 'e', 'l', 'l', 'o']"
      ]
     },
     "execution_count": 53,
     "metadata": {},
     "output_type": "execute_result"
    }
   ],
   "source": [
    "splitted = list('hello')\n",
    "splitted"
   ]
  },
  {
   "cell_type": "markdown",
   "id": "371d9dbc-68cf-4e2e-a60d-0210c61a13ba",
   "metadata": {},
   "source": [
    "Joining list of strings into a single string you use the `join` method."
   ]
  },
  {
   "cell_type": "code",
   "execution_count": 56,
   "id": "c9e4b738-8e8e-4c43-9a69-eed2bc4dcd4b",
   "metadata": {},
   "outputs": [
    {
     "data": {
      "text/plain": [
       "'This cat is awesome!'"
      ]
     },
     "execution_count": 56,
     "metadata": {},
     "output_type": "execute_result"
    }
   ],
   "source": [
    "\" \".join(['This', 'cat', 'is', 'awesome!'])"
   ]
  },
  {
   "cell_type": "code",
   "execution_count": 47,
   "id": "d6dccda5-915a-4be9-8ebf-a3a970bb394d",
   "metadata": {},
   "outputs": [],
   "source": [
    "# dir(str) "
   ]
  },
  {
   "cell_type": "markdown",
   "id": "f96b6b74-caaf-4f7f-8492-f41a0ec38bf2",
   "metadata": {},
   "source": [
    "The ``count`` method is used to count the number of characters in a string."
   ]
  },
  {
   "cell_type": "code",
   "execution_count": 27,
   "id": "98106fb8-400a-440a-8fb4-0a152ff10167",
   "metadata": {},
   "outputs": [
    {
     "data": {
      "text/plain": [
       "4"
      ]
     },
     "execution_count": 27,
     "metadata": {},
     "output_type": "execute_result"
    }
   ],
   "source": [
    "\"hellllo\".count('l')"
   ]
  },
  {
   "cell_type": "markdown",
   "id": "8f5ddef9-b43b-4c18-b3d6-e786a33aa876",
   "metadata": {},
   "source": [
    "The `endswith` and `startswith` method, checks if the string start or ends with a given substring."
   ]
  },
  {
   "cell_type": "code",
   "execution_count": 29,
   "id": "9a66e853-a4cc-4ad9-8a60-2300f8155f5c",
   "metadata": {},
   "outputs": [
    {
     "data": {
      "text/plain": [
       "False"
      ]
     },
     "execution_count": 29,
     "metadata": {},
     "output_type": "execute_result"
    }
   ],
   "source": [
    "\"mine\".endswith('9')"
   ]
  },
  {
   "cell_type": "code",
   "execution_count": 30,
   "id": "3aced671-54de-4254-89ef-67b2d5b97a89",
   "metadata": {},
   "outputs": [
    {
     "data": {
      "text/plain": [
       "True"
      ]
     },
     "execution_count": 30,
     "metadata": {},
     "output_type": "execute_result"
    }
   ],
   "source": [
    "\"mine\".startswith('m')"
   ]
  },
  {
   "cell_type": "markdown",
   "id": "c485e47e-1564-4a8e-b495-4a3581691bac",
   "metadata": {},
   "source": [
    "The `index` method is used to check the first index of a character or substring in a string."
   ]
  },
  {
   "cell_type": "code",
   "execution_count": 31,
   "id": "3173d623-7483-485a-864c-dd63fe3dc04a",
   "metadata": {},
   "outputs": [
    {
     "data": {
      "text/plain": [
       "1"
      ]
     },
     "execution_count": 31,
     "metadata": {},
     "output_type": "execute_result"
    }
   ],
   "source": [
    "\"mine\".index('i')"
   ]
  },
  {
   "cell_type": "markdown",
   "id": "3fd7706b-073e-4d86-9b41-7e75028592f9",
   "metadata": {},
   "source": [
    "The `isdigit()` checks if the string is a digit or not."
   ]
  },
  {
   "cell_type": "code",
   "execution_count": 34,
   "id": "fe5cb3e9-b734-47f7-bbf8-31e7f3087ca6",
   "metadata": {},
   "outputs": [
    {
     "data": {
      "text/plain": [
       "True"
      ]
     },
     "execution_count": 34,
     "metadata": {},
     "output_type": "execute_result"
    }
   ],
   "source": [
    "\"3\".isdigit()"
   ]
  },
  {
   "cell_type": "markdown",
   "id": "2d06f9c9-7c43-4e7f-a41d-6b0f140462f2",
   "metadata": {},
   "source": [
    "You can reverse a string in python as follows:"
   ]
  },
  {
   "cell_type": "code",
   "execution_count": 59,
   "id": "50db3ba6-9051-4595-bc2d-86700ad6fd69",
   "metadata": {},
   "outputs": [
    {
     "data": {
      "text/plain": [
       "'!emosewa si tac sihT'"
      ]
     },
     "execution_count": 59,
     "metadata": {},
     "output_type": "execute_result"
    }
   ],
   "source": [
    "\"\".join(reversed(string))"
   ]
  },
  {
   "cell_type": "code",
   "execution_count": 58,
   "id": "c17c581e-bb89-4595-a418-5eefb445d3a7",
   "metadata": {},
   "outputs": [
    {
     "data": {
      "text/plain": [
       "'!emosewa si tac sihT'"
      ]
     },
     "execution_count": 58,
     "metadata": {},
     "output_type": "execute_result"
    }
   ],
   "source": [
    "string[::-1]"
   ]
  },
  {
   "cell_type": "markdown",
   "id": "2e87ef32-763c-4246-8d05-a41c4ad1926b",
   "metadata": {},
   "source": [
    "You can slice and index strings in python just like what you do with lists as follows:"
   ]
  },
  {
   "cell_type": "code",
   "execution_count": 61,
   "id": "e0cd5dce-e85e-4c5f-9e30-b17b637eefa6",
   "metadata": {},
   "outputs": [
    {
     "data": {
      "text/plain": [
       "'is'"
      ]
     },
     "execution_count": 61,
     "metadata": {},
     "output_type": "execute_result"
    }
   ],
   "source": [
    "string[9:11]"
   ]
  },
  {
   "cell_type": "code",
   "execution_count": 62,
   "id": "81ad0cc6-98ee-49ca-913e-855ec388ea99",
   "metadata": {},
   "outputs": [
    {
     "data": {
      "text/plain": [
       "'T'"
      ]
     },
     "execution_count": 62,
     "metadata": {},
     "output_type": "execute_result"
    }
   ],
   "source": [
    "string[0]"
   ]
  },
  {
   "cell_type": "code",
   "execution_count": 63,
   "id": "37c40626-198e-4771-b70c-a26a9acf6aec",
   "metadata": {},
   "outputs": [
    {
     "data": {
      "text/plain": [
       "'e'"
      ]
     },
     "execution_count": 63,
     "metadata": {},
     "output_type": "execute_result"
    }
   ],
   "source": [
    "string[-2]"
   ]
  },
  {
   "cell_type": "markdown",
   "id": "dbfa22e5-8ac8-40ed-be6a-eb8e69db386a",
   "metadata": {},
   "source": [
    "The `len` method can also check the length or how many characters are in a string."
   ]
  },
  {
   "cell_type": "code",
   "execution_count": 86,
   "id": "16264249-e2b4-4d54-bcbb-d2e70092ee6f",
   "metadata": {},
   "outputs": [
    {
     "data": {
      "text/plain": [
       "20"
      ]
     },
     "execution_count": 86,
     "metadata": {},
     "output_type": "execute_result"
    }
   ],
   "source": [
    "len(string)"
   ]
  },
  {
   "cell_type": "markdown",
   "id": "87cbb948-800b-4b13-bbca-e08d9f96bee6",
   "metadata": {},
   "source": [
    "### Question??\n",
    "Given a string `\"walah walah\"`, return a string character that appears the most in this string."
   ]
  },
  {
   "cell_type": "code",
   "execution_count": 82,
   "id": "5200077b-6685-4b83-9a9d-2d11d360a340",
   "metadata": {},
   "outputs": [],
   "source": [
    "i = \"walah walah\"\n",
    "\n",
    "def count_most_occ(s):\n",
    "    counts = {}\n",
    "    max_count = 0\n",
    "    most_frequent_char = ''\n",
    "\n",
    "    for char in s:\n",
    "        counts[char] = counts.get(char, 0) + 1\n",
    "        if counts[char] > max_count:\n",
    "            max_count = counts[char]\n",
    "            most_frequent_char = char\n",
    "        elif counts[char] == max_count and char < most_frequent_char:\n",
    "            most_frequent_char = char  # Handles ties by choosing the lexicographically smaller character\n",
    "\n",
    "    return most_frequent_char\n",
    "\n",
    "assert count_most_occ(i) == 'a', \"The most frequent character is a\""
   ]
  },
  {
   "cell_type": "code",
   "execution_count": 84,
   "id": "f5df2f53-1ef7-4008-a834-5d68e20fad5f",
   "metadata": {},
   "outputs": [
    {
     "data": {
      "text/plain": [
       "'a'"
      ]
     },
     "execution_count": 84,
     "metadata": {},
     "output_type": "execute_result"
    }
   ],
   "source": [
    "count_most_occ(i)"
   ]
  }
 ],
 "metadata": {
  "kernelspec": {
   "display_name": "Python 3 (ipykernel)",
   "language": "python",
   "name": "python3"
  },
  "language_info": {
   "codemirror_mode": {
    "name": "ipython",
    "version": 3
   },
   "file_extension": ".py",
   "mimetype": "text/x-python",
   "name": "python",
   "nbconvert_exporter": "python",
   "pygments_lexer": "ipython3",
   "version": "3.11.7"
  }
 },
 "nbformat": 4,
 "nbformat_minor": 5
}

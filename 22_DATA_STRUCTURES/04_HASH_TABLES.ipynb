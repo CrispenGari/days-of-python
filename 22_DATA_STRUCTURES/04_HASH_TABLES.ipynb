{
 "cells": [
  {
   "cell_type": "markdown",
   "id": "cb3339c5-c32a-4d12-8e0e-67a370f9a38e",
   "metadata": {},
   "source": [
    "### Hash Tables\n",
    "A hash table is also know as a hash map is a data structure that is used to store key value pairs. In this section we are going to implement a hash table data structures from scratch. This function will contains the following operations\n",
    "\n",
    "1. `set` - inserting a new key value pair\n",
    "2. `get` - get a value based on a key provided\n",
    "3. `remove` - remove a key and it's value from the table.\n",
    "\n",
    "Let's implement a hash table data structure from scratch. First things first we will need to implement the hash function which is used to create hash keys. What we are going to do when creating a hash keys is that we are going to convert a string into `ASCII` characters and sum them together. That how we will be hashing our keys assuming that all the keys will be strings."
   ]
  },
  {
   "cell_type": "code",
   "execution_count": 17,
   "id": "bc13902c-cbbd-4b59-85d7-8e0212cdf9f9",
   "metadata": {},
   "outputs": [
    {
     "name": "stdout",
     "output_type": "stream",
     "text": [
      "{'age': 'hello', 'surname': 'Doe', 'name': 'John', 'gea': 'hello'}\n"
     ]
    }
   ],
   "source": [
    "\n",
    "class HashTable:\n",
    "    def __init__(self, size):\n",
    "        self.table = [None for _ in range(size)]\n",
    "        self.size = size\n",
    "        \n",
    "    def hash(self, key):\n",
    "        return sum([ord(i) for i in list(key)]) % self.size\n",
    "        \n",
    "    def set(self, key, value):\n",
    "        index = self.hash(key)\n",
    "        self.table[index] = value\n",
    "        \n",
    "    def get(self, key):\n",
    "        index = self.hash(key)\n",
    "        return self.table[index]\n",
    "    \n",
    "table = HashTable(10)\n",
    "table.set(\"name\", \"John\");\n",
    "table.set(\"surname\", \"Doe\");\n",
    "table.set(\"age\", 23);\n",
    "table.set(\"gea\", \"hello\");\n",
    "\n",
    "print({\n",
    "  \"age\": table.get(\"age\"),\n",
    "  \"surname\": table.get(\"surname\"),\n",
    "  \"name\": table.get(\"name\"),\n",
    "  \"gea\": table.get(\"gea\"),\n",
    "})\n"
   ]
  },
  {
   "cell_type": "markdown",
   "id": "af6541cf-9190-4d26-a492-e076bd623823",
   "metadata": {},
   "source": [
    "We can see that there is collision between property `age` and `gea` because these two properties have the same characters hence the hash key will be the same. So we need to handle this because this can't be handled by increasing the table size.\n",
    "\n",
    "\n",
    "### Handling Collisions\n",
    "Collision occurs when there is a class in keys in a hash table. This is a problem because we might loose data which is not the primary purpose of a data structure. We are going to handle this in a simple way by storing the `keys` and `values` as an array inside the table. The code bellow show the implementation of that. We are going to modify the `set` and `get` methods to:\n",
    "\n"
   ]
  },
  {
   "cell_type": "code",
   "execution_count": 21,
   "id": "1f4a7bd5-5dea-4558-b3f7-1880181d3d07",
   "metadata": {},
   "outputs": [
    {
     "name": "stdout",
     "output_type": "stream",
     "text": [
      "{'age': 23, 'surname': 'Doe', 'name': 'John', 'gea': 'hello'}\n"
     ]
    }
   ],
   "source": [
    "\n",
    "\n",
    "class HashTable:\n",
    "    def __init__(self, size):\n",
    "        self.table = [None for i in range(size)]\n",
    "        self.size = size\n",
    "        \n",
    "    def hash(self, key):\n",
    "        return sum([ord(i) for i in list(key)]) % self.size\n",
    "        \n",
    "    def set(self, key, value):\n",
    "        index = self.hash(key)\n",
    "        bucket = self.table[index]\n",
    "        if bucket is None:\n",
    "            self.table[index] = [[key, value]] # [[\"age\", 23],  [\"gea\", \"hello\"]]\n",
    "        else:\n",
    "            for pair in bucket:\n",
    "                if pair[0] == key:  # Update the value if key exists\n",
    "                    pair[1] = value\n",
    "                    return\n",
    "            bucket.append([key, value])  # Append new key-value pair if key doesn't exist\n",
    "\n",
    "    def get(self, key):\n",
    "        index = self.hash(key)\n",
    "        bucket = self.table[index] # [[\"age\", 23],  [\"gea\", \"hello\"]]\n",
    "        if bucket is None:\n",
    "            return None\n",
    "        for k, v in bucket:\n",
    "            if k == key:\n",
    "                return v\n",
    "        return None  \n",
    "table = HashTable(10)\n",
    "table.set(\"name\", \"John\");\n",
    "table.set(\"surname\", \"Doe\");\n",
    "table.set(\"age\", 23);\n",
    "table.set(\"gea\", \"hello\");\n",
    "\n",
    "print({\n",
    "  \"age\": table.get(\"age\"),\n",
    "  \"surname\": table.get(\"surname\"),\n",
    "  \"name\": table.get(\"name\"),\n",
    "  \"gea\": table.get(\"gea\"),\n",
    "})\n"
   ]
  },
  {
   "cell_type": "markdown",
   "id": "139b0ded-e3d2-4f62-96da-f014594070d1",
   "metadata": {},
   "source": [
    "With just that we have handled collision. Next we are going to implement the `remove` function which allows us to remove an item from the hash table."
   ]
  },
  {
   "cell_type": "code",
   "execution_count": 23,
   "id": "28d2d296-1417-49b4-8dbe-7227eb08343f",
   "metadata": {},
   "outputs": [
    {
     "name": "stdout",
     "output_type": "stream",
     "text": [
      "{'age': 23, 'surname': 'Doe', 'name': 'John', 'gea': None}\n"
     ]
    }
   ],
   "source": [
    "\n",
    "class HashTable:\n",
    "    def __init__(self, size):\n",
    "        self.table = [None for i in range(size)]\n",
    "        self.size = size\n",
    "        \n",
    "    def hash(self, key):\n",
    "        return sum([ord(i) for i in list(key)]) % self.size\n",
    "        \n",
    "    def set(self, key, value):\n",
    "        index = self.hash(key)\n",
    "        bucket = self.table[index]\n",
    "        if bucket is None:\n",
    "            self.table[index] = [[key, value]]\n",
    "        else:\n",
    "            for pair in bucket:\n",
    "                if pair[0] == key:  # Update the value if key exists\n",
    "                    pair[1] = value\n",
    "                    return\n",
    "            bucket.append([key, value])  # Append new key-value pair if key doesn't exist\n",
    "\n",
    "    def get(self, key):\n",
    "        index = self.hash(key)\n",
    "        bucket = self.table[index]\n",
    "        if bucket is None:\n",
    "            return None\n",
    "        for pair in bucket:\n",
    "            if pair[0] == key:\n",
    "                return pair[1]\n",
    "        return None  \n",
    "        \n",
    "    def remove(self, key):\n",
    "        index = self.hash(key)\n",
    "        bucket = self.table[index]\n",
    "        if bucket is None:\n",
    "            return False \n",
    "        for i, pair in enumerate(bucket):\n",
    "            if pair[0] == key:\n",
    "                bucket.pop(i)  # Remove the key-value pair\n",
    "                if not bucket:\n",
    "                    self.table[index] = None\n",
    "                return True\n",
    "        return False  # Key not found\n",
    "        \n",
    "table = HashTable(10)\n",
    "table.set(\"name\", \"John\");\n",
    "table.set(\"surname\", \"Doe\");\n",
    "table.set(\"age\", 23);\n",
    "table.set(\"gea\", \"hello\");\n",
    "table.remove(\"gea\")\n",
    "\n",
    "print({\n",
    "  \"age\": table.get(\"age\"),\n",
    "  \"surname\": table.get(\"surname\"),\n",
    "  \"name\": table.get(\"name\"),\n",
    "  \"gea\": table.get(\"gea\"),\n",
    "})"
   ]
  },
  {
   "cell_type": "code",
   "execution_count": null,
   "id": "652bb5e2-bb8c-4c2b-9568-7c46b6653f7e",
   "metadata": {},
   "outputs": [],
   "source": []
  }
 ],
 "metadata": {
  "kernelspec": {
   "display_name": "Python 3 (ipykernel)",
   "language": "python",
   "name": "python3"
  },
  "language_info": {
   "codemirror_mode": {
    "name": "ipython",
    "version": 3
   },
   "file_extension": ".py",
   "mimetype": "text/x-python",
   "name": "python",
   "nbconvert_exporter": "python",
   "pygments_lexer": "ipython3",
   "version": "3.11.7"
  }
 },
 "nbformat": 4,
 "nbformat_minor": 5
}

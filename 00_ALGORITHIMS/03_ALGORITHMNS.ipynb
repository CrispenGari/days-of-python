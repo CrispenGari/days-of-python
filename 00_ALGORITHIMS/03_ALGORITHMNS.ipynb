{
 "cells": [
  {
   "cell_type": "markdown",
   "id": "ac574118-dc5e-4435-85c0-c601d34d90ef",
   "metadata": {},
   "source": [
    "### Algorithms in Python\n",
    "\n",
    "In this notebook we are going to have a look at how to implement some algorithms in python. Here are some of the algorithms categories that we are going to implement:\n",
    "\n",
    "1. **Mat Alogorithmns**\n",
    "2. **Recursion Algorithms**\n",
    "3. **Searching Algorithm**\n",
    "4. **Sorting Algorithm**\n",
    "5. **Miscellaneous Algorithms**\n",
    "\n"
   ]
  },
  {
   "cell_type": "markdown",
   "id": "63ef7174-776d-48f3-a072-87326cfb1bb2",
   "metadata": {},
   "source": [
    "### Time and Space Complexity Cheat-Sheet.\n",
    "\n",
    "The following table contains a cheat-sheet for time complexity and space complexity for the `Big-O` notations of code expressions.\n",
    "\n",
    "| Description                                 | Big-O notation | Type          |\n",
    "| ------------------------------------------- | -------------- | ------------- |\n",
    "| Alignment operations and conditional checks | `O(1)`         | `Constant`    |\n",
    "| Loops                                       | `O(n)`         | `Linear`      |\n",
    "| 2 Nested loops                              | `O(n^2)`       | `Quadratic`   |\n",
    "| Loops that reduces by half in the body      | `O(log(n))`    | `Logarithmic` |\n",
    "\n",
    "Let's start by implementing the Math Algorithmns."
   ]
  },
  {
   "cell_type": "markdown",
   "id": "af83f187-42f4-4df9-a13e-6b2e6eee0d0e",
   "metadata": {},
   "source": [
    "### Math Algorithms\n",
    "\n",
    "In this section we are going to implement some mathematical algorithms identify their time complexity and optimize them where necessary. These algorithmns include:\n",
    "\n",
    "1. Factorial\n",
    "2. Fibonacci Serries\n",
    "3. Prime\n",
    "4. Power of 2\n",
    "\n",
    "#### 1. factorial\n",
    "\n",
    "A factorial of a number (`n`) is product of the numbers starting from `1` to `n`."
   ]
  },
  {
   "cell_type": "code",
   "execution_count": 6,
   "id": "c8363c73-0ce8-4410-8726-f241362826b4",
   "metadata": {},
   "outputs": [
    {
     "name": "stdout",
     "output_type": "stream",
     "text": [
      "1 factorial:  1\n",
      "2 factorial:  2\n",
      "3 factorial:  6\n",
      "4 factorial:  24\n",
      "5 factorial:  120\n"
     ]
    }
   ],
   "source": [
    "def factorial(n):\n",
    "    fact = 1\n",
    "    for i in range(2, n+1):\n",
    "        fact *= i\n",
    "    return fact\n",
    "\n",
    "print(\"1 factorial: \", factorial(1))\n",
    "print(\"2 factorial: \", factorial(2))\n",
    "print(\"3 factorial: \", factorial(3))\n",
    "print(\"4 factorial: \", factorial(4))\n",
    "print(\"5 factorial: \", factorial(5))"
   ]
  },
  {
   "cell_type": "markdown",
   "id": "049ea56d-f82c-4944-bd0d-b94b23874c39",
   "metadata": {},
   "source": [
    "- Time complexity: **O(n)**\n",
    "\n",
    "#### 2. Fibonacci Serries\n",
    "\n",
    "This is a serries of numbers in which the next number is obtained by adding the 2 previous numbers in the series.\n"
   ]
  },
  {
   "cell_type": "code",
   "execution_count": 19,
   "id": "b278ea5c-e59b-4795-ba29-50a88de96f1a",
   "metadata": {},
   "outputs": [
    {
     "name": "stdout",
     "output_type": "stream",
     "text": [
      "fibonacci of 1:  [0, 1]\n",
      "fibonacci 2:  [0, 1]\n",
      "fibonacci 3:  [0, 1, 1]\n",
      "fibonacci 4:  [0, 1, 1, 2]\n",
      "fibonacci 5:  [0, 1, 1, 2, 3]\n"
     ]
    }
   ],
   "source": [
    "def fibonacci(n):\n",
    "    fib = [0, 1]\n",
    "    for i in range(2, n):\n",
    "        fib.append(fib[i - 1] + fib[i - 2])\n",
    "    return fib\n",
    "\n",
    "print(\"fibonacci of 1: \", fibonacci(1))\n",
    "print(\"fibonacci 2: \", fibonacci(2))\n",
    "print(\"fibonacci 3: \", fibonacci(3))\n",
    "print(\"fibonacci 4: \", fibonacci(4))\n",
    "print(\"fibonacci 5: \", fibonacci(5))"
   ]
  },
  {
   "cell_type": "markdown",
   "id": "d55bd215-a93d-4fa0-ba80-9d2294c45bc6",
   "metadata": {},
   "source": [
    "- Time complexity: **O(n)**\n",
    "\n",
    "#### 2. prime\n",
    "\n",
    "A prime number `n` is a number that have oly two factors, which are `1` and `n`.\n"
   ]
  },
  {
   "cell_type": "code",
   "execution_count": 24,
   "id": "561f2542-a43c-4c3a-9956-9e303dd18a62",
   "metadata": {},
   "outputs": [
    {
     "name": "stdout",
     "output_type": "stream",
     "text": [
      "isPrime(0):  False\n",
      "isPrime(1):  False\n",
      "isPrime(2):  True\n",
      "isPrime(3):  True\n",
      "isPrime(4):  False\n",
      "isPrime(5):  True\n",
      "isPrime(6):  False\n",
      "isPrime(7):  True\n",
      "isPrime(8):  False\n",
      "isPrime(9):  False\n"
     ]
    }
   ],
   "source": [
    "def isPrime(n):\n",
    "    if n < 2:\n",
    "        return False\n",
    "    for i in range(2, n):\n",
    "        if n % i == 0:\n",
    "            return False\n",
    "    return True\n",
    "\n",
    "for i in range(10):\n",
    "    print(f\"isPrime({i}): \", isPrime(i))"
   ]
  },
  {
   "cell_type": "markdown",
   "id": "357f80bb-c047-4643-a51d-94ad3ab7ee74",
   "metadata": {},
   "source": [
    "- Time complexity: **O(n)**\n",
    "  \n",
    "> Integers larger than the square root do not need to be checked for prime because whenever `n=a*b`, one of the two factors `a` and `b` is less than or equal to the square root of `n`\n",
    "\n",
    "- The above algorithm can be optimized or improved as follows."
   ]
  },
  {
   "cell_type": "code",
   "execution_count": 49,
   "id": "c648e68a-ebad-49b1-ab1c-576e444065c1",
   "metadata": {},
   "outputs": [
    {
     "name": "stdout",
     "output_type": "stream",
     "text": [
      "isPrime(0):  False\n",
      "isPrime(1):  False\n",
      "isPrime(2):  True\n",
      "isPrime(3):  True\n",
      "isPrime(4):  False\n",
      "isPrime(5):  True\n",
      "isPrime(6):  False\n",
      "isPrime(7):  True\n",
      "isPrime(8):  False\n",
      "isPrime(9):  False\n"
     ]
    }
   ],
   "source": [
    "import math\n",
    "def isPrime(n):\n",
    "    if n < 2:\n",
    "        return False\n",
    "    i = 2\n",
    "    while i <= math.sqrt(n):\n",
    "        if n % i == 0:\n",
    "            return False\n",
    "        i+=1\n",
    "    return True\n",
    "    \n",
    "for i in range(10):\n",
    "    print(f\"isPrime({i}): \", isPrime(i))"
   ]
  },
  {
   "cell_type": "markdown",
   "id": "af6248d7-16f2-4379-ab8f-9792aeaa51b9",
   "metadata": {},
   "source": [
    "- Time complexity: **O(sqrt(n))**\n",
    "\n",
    "#### 3. powerOfTwo\n",
    "\n",
    "We want to determine given an integer value `n` if `n` is a power of 2.\n"
   ]
  },
  {
   "cell_type": "code",
   "execution_count": 55,
   "id": "607aa277-36e3-4330-9f21-f52198a470b3",
   "metadata": {},
   "outputs": [
    {
     "name": "stdout",
     "output_type": "stream",
     "text": [
      "powerOfTwo(0):  False\n",
      "powerOfTwo(1):  True\n",
      "powerOfTwo(2):  True\n",
      "powerOfTwo(3):  False\n",
      "powerOfTwo(4):  True\n",
      "powerOfTwo(5):  False\n",
      "powerOfTwo(6):  False\n",
      "powerOfTwo(7):  False\n",
      "powerOfTwo(8):  True\n",
      "powerOfTwo(9):  False\n",
      "powerOfTwo(10):  False\n",
      "powerOfTwo(11):  False\n",
      "powerOfTwo(12):  False\n",
      "powerOfTwo(13):  False\n",
      "powerOfTwo(14):  False\n",
      "powerOfTwo(15):  False\n",
      "powerOfTwo(16):  True\n"
     ]
    }
   ],
   "source": [
    "def powerOfTwo(n):\n",
    "    if n < 1:\n",
    "        return False\n",
    "    while n > 1:\n",
    "        if n % 2 != 0:\n",
    "            return False\n",
    "        n /= 2\n",
    "    return True\n",
    "for i in range(17):\n",
    "    print(f\"powerOfTwo({i}): \", powerOfTwo(i))"
   ]
  },
  {
   "cell_type": "markdown",
   "id": "ade16a5e-b121-4ae0-9c43-9f0dcf124fab",
   "metadata": {},
   "source": [
    "- Time complexity: **O(log(n))**\n",
    "- The above algorithm can be improved as follows\n"
   ]
  },
  {
   "cell_type": "code",
   "execution_count": 60,
   "id": "2e352be4-53d7-47b6-a1f3-7337ba016f03",
   "metadata": {},
   "outputs": [
    {
     "name": "stdout",
     "output_type": "stream",
     "text": [
      "powerOfTwo(0):  False\n",
      "powerOfTwo(1):  True\n",
      "powerOfTwo(2):  True\n",
      "powerOfTwo(3):  False\n",
      "powerOfTwo(4):  True\n",
      "powerOfTwo(5):  False\n",
      "powerOfTwo(6):  False\n",
      "powerOfTwo(7):  False\n",
      "powerOfTwo(8):  True\n",
      "powerOfTwo(9):  False\n",
      "powerOfTwo(10):  False\n",
      "powerOfTwo(11):  False\n",
      "powerOfTwo(12):  False\n",
      "powerOfTwo(13):  False\n",
      "powerOfTwo(14):  False\n",
      "powerOfTwo(15):  False\n",
      "powerOfTwo(16):  True\n"
     ]
    }
   ],
   "source": [
    "def powerOfTwo(n):\n",
    "    if n < 1:\n",
    "        return False\n",
    "    return n & (n - 1) == 0\n",
    "\n",
    "for i in range(17):\n",
    "    print(f\"powerOfTwo({i}): \", powerOfTwo(i))"
   ]
  },
  {
   "cell_type": "markdown",
   "id": "8d6e3574-e3c7-4d5a-a98f-bea17b5e9366",
   "metadata": {},
   "source": [
    "- Time complexity: **O(1)**\n",
    "\n",
    "### Recursion Algorithms\n",
    "\n",
    "A recursive function is a function that calls itself in the function body. Let's have a look at some of the examples.\n",
    "\n",
    "> Note: Every recessive function should have a base case, which controls the termination of a function otherwise an infinite loop will arise.\n",
    "\n",
    "#### 1. factorial problem\n",
    "\n",
    "We are going to approach the factorial problem to find a factorial of `n` which is a positive integer greater than 0 using recursion.\n"
   ]
  },
  {
   "cell_type": "code",
   "execution_count": 65,
   "id": "de5984ca-227c-4ef5-9882-538df17f920b",
   "metadata": {},
   "outputs": [
    {
     "name": "stdout",
     "output_type": "stream",
     "text": [
      "factorial(0):  1\n",
      "factorial(1):  1\n",
      "factorial(2):  2\n",
      "factorial(3):  6\n",
      "factorial(4):  24\n",
      "factorial(5):  120\n",
      "factorial(6):  720\n",
      "factorial(7):  5040\n"
     ]
    }
   ],
   "source": [
    "def factorial(n):\n",
    "    if n < 2: return 1\n",
    "    return n * factorial(n -1)\n",
    "\n",
    "for i in range(8):\n",
    "    print(f\"factorial({i}): \", factorial(i))"
   ]
  },
  {
   "cell_type": "markdown",
   "id": "27e17346-0e34-4a8d-91b0-9c617c3d7c2a",
   "metadata": {},
   "source": [
    "\n",
    "- Time complexity: **O(n)**\n",
    "\n",
    "  > We can conclude that using iterative approach is the same as using the recursive approach in solving factorial problem.\n",
    "\n",
    "#### 2. fibonacci problem\r\n",
    "\r\n",
    "Let's use the recursive approach to find the `nth` fibonacci term\n"
   ]
  },
  {
   "cell_type": "code",
   "execution_count": 71,
   "id": "86447317-2a88-4bc1-91c8-3f147beb15cd",
   "metadata": {},
   "outputs": [
    {
     "name": "stdout",
     "output_type": "stream",
     "text": [
      "fibonacci(0):  0\n",
      "fibonacci(1):  1\n",
      "fibonacci(2):  1\n",
      "fibonacci(3):  2\n",
      "fibonacci(4):  3\n",
      "fibonacci(5):  5\n",
      "fibonacci(6):  8\n",
      "fibonacci(7):  13\n"
     ]
    }
   ],
   "source": [
    "def fibonacci(n):\n",
    "    if n < 2:\n",
    "        return n\n",
    "    return fibonacci(n -1) + fibonacci(n-2)\n",
    "\n",
    "for i in range(8):\n",
    "    print(f\"fibonacci({i}): \", fibonacci(i))"
   ]
  },
  {
   "cell_type": "markdown",
   "id": "a8894460-578b-45e4-8cf7-e3d5c2724f60",
   "metadata": {},
   "source": [
    "- Time complexity: **O(2^n)**\n",
    "  > We can conclude that using iterative approach is better than using recessive approach when solving the fibonacci problem.\n",
    "\n",
    "\n",
    "### Searching Algorithm\r\n",
    "\r\n",
    "In this section we are going to have a look at how we can implement some searching algorithms in typescript.\r\n",
    "\r\n",
    "#### 1. Linear Search\r\n",
    "\r\n",
    "Given an array of numbers and a target element return the index of that element or `-1` if the element does not exists in an array. Here is how we can go about it:\r\n",
    "\r\n",
    "1. loop through elements in an array and compare if the element matches the element at that particular index\r\n",
    "2. if it does return the index of that element\r\n",
    "3. if the element was not found return `-1`"
   ]
  },
  {
   "cell_type": "code",
   "execution_count": 77,
   "id": "67490d72-3a74-4ed1-bbc5-a4f7d899cf73",
   "metadata": {},
   "outputs": [
    {
     "name": "stdout",
     "output_type": "stream",
     "text": [
      "linearSearch(([0, 1, 2, 3, 4, 5], 0)):  0\n",
      "linearSearch(([0, 1, 2, 3, 4, 5], 1)):  1\n",
      "linearSearch(([0, 1, 2, 3, 4, 5], 2)):  2\n",
      "linearSearch(([0, 1, 2, 3, 4, 5], 3)):  3\n",
      "linearSearch(([0, 1, 2, 3, 4, 5], 4)):  4\n",
      "linearSearch(([0, 1, 2, 3, 4, 5], 5)):  5\n",
      "linearSearch(([0, 1, 2, 3, 4, 5], 6)):  -1\n",
      "linearSearch(([0, 1, 2, 3, 4, 5], 7)):  -1\n",
      "linearSearch(([0, 1, 2, 3, 4, 5], 8)):  -1\n",
      "linearSearch(([0, 1, 2, 3, 4, 5], 9)):  -1\n"
     ]
    }
   ],
   "source": [
    "def linearSearch(array, ele):\n",
    "    for i, val in enumerate(array):\n",
    "        if ele == val:\n",
    "            return i\n",
    "    return -1\n",
    "            \n",
    "elements = list(range(6))\n",
    "\n",
    "for i in range(10):\n",
    "    print(f\"linearSearch({elements, i}): \", linearSearch(elements, i))"
   ]
  },
  {
   "cell_type": "markdown",
   "id": "7772af52-6a16-4ee2-944d-044cbf4a94e0",
   "metadata": {},
   "source": [
    "\n",
    "- Time complexity: **O(n)**\n",
    "\n",
    "#### 2. Binary Search\n",
    "\n",
    "Given an **sorted** array of elements, find the index of the element in an array and return `-1` if the element does not exists in an array. Here is how the binary search algorithm works.\n",
    "\n",
    "##### 2.1 Iterative approach\n",
    "\n",
    "1. find the first and last index\n",
    "2. if the first and last index are equal return `-1`\n",
    "3. find the middle index by rounding down the sum of `first` and `last` index after dividing them by `2`.\n",
    "4. check if the middle element is greater than the element:\n",
    "   - if it is this means the element is on the left half\n",
    "     - update the right index to middle index less 1\n",
    "   - if not this means the element is on the right half\n",
    "     - update the left index to middle index plus 1\n",
    "\n",
    "> Note that `Binary Search` algorithm works on sorted arrays."
   ]
  },
  {
   "cell_type": "code",
   "execution_count": 83,
   "id": "de8cd220-8b45-45b3-bcbb-9ce4df3fb17c",
   "metadata": {},
   "outputs": [
    {
     "name": "stdout",
     "output_type": "stream",
     "text": [
      "binarySearch(([0, 1, 2, 3, 4, 5], 0)):  0\n",
      "binarySearch(([0, 1, 2, 3, 4, 5], 1)):  1\n",
      "binarySearch(([0, 1, 2, 3, 4, 5], 2)):  2\n",
      "binarySearch(([0, 1, 2, 3, 4, 5], 3)):  3\n",
      "binarySearch(([0, 1, 2, 3, 4, 5], 4)):  4\n",
      "binarySearch(([0, 1, 2, 3, 4, 5], 5)):  5\n",
      "binarySearch(([0, 1, 2, 3, 4, 5], 6)):  -1\n",
      "binarySearch(([0, 1, 2, 3, 4, 5], 7)):  -1\n",
      "binarySearch(([0, 1, 2, 3, 4, 5], 8)):  -1\n",
      "binarySearch(([0, 1, 2, 3, 4, 5], 9)):  -1\n"
     ]
    }
   ],
   "source": [
    "def search(array, ele, left, right):\n",
    "    mid = (left + right)//2\n",
    "    if left > right:\n",
    "        return -1\n",
    "    if array[mid] == ele:\n",
    "        return mid\n",
    "    if array[mid] > ele:\n",
    "       # the element is on the left half\n",
    "        return search(array, ele, left, mid - 1)\n",
    "    else:\n",
    "        # the element is on the right half\n",
    "        return search(array, ele, mid + 1, right);\n",
    "def binarySearch(array, ele):\n",
    "    return search(array, ele, 0, len(array) - 1)\n",
    "\n",
    "elements = list(range(6))\n",
    "\n",
    "for i in range(10):\n",
    "    print(f\"binarySearch({elements, i}): \", binarySearch(elements, i))"
   ]
  },
  {
   "cell_type": "markdown",
   "id": "fcf4f214-ce79-4d81-aa59-788a0f9c1a43",
   "metadata": {},
   "source": [
    "? What if elements are sorted in descending order?\n",
    "\n",
    "1. if not we check if the middle element is less than element\n",
    "   - if this condition sets then which means the element is on the left half\n",
    "     - we recursively call the `search` with the right index updated\n",
    "   - else this means that the element is on the right half.\n",
    "     - we recursively call the `search` with the left index updated."
   ]
  },
  {
   "cell_type": "code",
   "execution_count": 85,
   "id": "3a12eb21-1bee-4311-9834-e30c6e4b1c37",
   "metadata": {},
   "outputs": [
    {
     "name": "stdout",
     "output_type": "stream",
     "text": [
      "binarySearch(([5, 4, 3, 2, 1, 0], 0)):  5\n",
      "binarySearch(([5, 4, 3, 2, 1, 0], 1)):  4\n",
      "binarySearch(([5, 4, 3, 2, 1, 0], 2)):  3\n",
      "binarySearch(([5, 4, 3, 2, 1, 0], 3)):  2\n",
      "binarySearch(([5, 4, 3, 2, 1, 0], 4)):  1\n",
      "binarySearch(([5, 4, 3, 2, 1, 0], 5)):  0\n",
      "binarySearch(([5, 4, 3, 2, 1, 0], 6)):  -1\n",
      "binarySearch(([5, 4, 3, 2, 1, 0], 7)):  -1\n",
      "binarySearch(([5, 4, 3, 2, 1, 0], 8)):  -1\n",
      "binarySearch(([5, 4, 3, 2, 1, 0], 9)):  -1\n"
     ]
    }
   ],
   "source": [
    "def search(array, ele, left, right):\n",
    "    mid = (left + right)//2\n",
    "    if left > right:\n",
    "        return -1\n",
    "    if array[mid] == ele:\n",
    "        return mid\n",
    "    if array[mid] < ele:\n",
    "       # the element is on the left half\n",
    "        return search(array, ele, left, mid - 1)\n",
    "    else:\n",
    "        # the element is on the right half\n",
    "        return search(array, ele, mid + 1, right);\n",
    "def binarySearch(array, ele):\n",
    "    return search(array, ele, 0, len(array) - 1)\n",
    "\n",
    "elements = list(range(6))[::-1]\n",
    "\n",
    "for i in range(10):\n",
    "    print(f\"binarySearch({elements, i}): \", binarySearch(elements, i))"
   ]
  },
  {
   "cell_type": "markdown",
   "id": "2d55dddd-0e06-4bea-8651-d29ece4bd8a5",
   "metadata": {},
   "source": [
    "- Time complexity: **O(log(n))**\n",
    "\n",
    "### Sorting Algorithm\n",
    "\n",
    "In this section we are going to look at some sorting algorithms.\n",
    "\n",
    "#### 1. Bubble Sort\n",
    "\n",
    "Given an array of numbers we want to sort them in `ascending` order. Here is how we can do it using the `bubbleSort` algorithm.\n",
    "\n",
    "1. Keep in track of elements being swapped or not\n",
    "2. Repeat the loop till swapped value is false\n",
    "3. If the `left` element is greater than the `right` element we swap the two elements and set the `swapped` to `true`.\n"
   ]
  },
  {
   "cell_type": "code",
   "execution_count": 101,
   "id": "17b474ab-5bda-4a7d-996a-99ae9fcc540d",
   "metadata": {},
   "outputs": [
    {
     "name": "stdout",
     "output_type": "stream",
     "text": [
      "[3, -1, 8, 8, 7, 1, 10, -6]\n",
      "[-6, -1, 1, 3, 7, 8, 8, 10]\n"
     ]
    }
   ],
   "source": [
    "def bubbleSort(ele):\n",
    "    swapped = True\n",
    "    while swapped:\n",
    "        swapped = False\n",
    "        for i in range(len(ele) -1):\n",
    "            if ele[i] > ele[i + 1]:\n",
    "                ele[i], ele[i + 1] = ele[i+1], ele[i]\n",
    "                # temp = ele[i]\n",
    "                # ele[i] = ele[i + 1]\n",
    "                # ele[i + 1] = temp\n",
    "                swapped = True\n",
    "\n",
    "elements = [3, -1, 8, 8, 7, 1, 10, -6]\n",
    "print(f\"{elements}\")\n",
    "bubbleSort(elements)\n",
    "print(f\"{elements}\")"
   ]
  },
  {
   "cell_type": "markdown",
   "id": "1a7186bb-d841-4733-a295-551f1bed9c15",
   "metadata": {},
   "source": [
    "Here is the implementation that allows us to order elements in descending order using the `bubbleSort`.\n",
    "\n",
    "1. If the `left` element is less than the `right` element we swap the two elements and set the `swapped` to `true`.\n",
    "\n"
   ]
  },
  {
   "cell_type": "code",
   "execution_count": 103,
   "id": "792292ea-c302-4f15-b58d-4fabd69d680c",
   "metadata": {},
   "outputs": [
    {
     "name": "stdout",
     "output_type": "stream",
     "text": [
      "[3, -1, 8, 8, 7, 1, 10, -6]\n",
      "[10, 8, 8, 7, 3, 1, -1, -6]\n"
     ]
    }
   ],
   "source": [
    "def bubbleSort(ele):\n",
    "    swapped = True\n",
    "    while swapped:\n",
    "        swapped = False\n",
    "        for i in range(len(ele) -1):\n",
    "            if ele[i] < ele[i + 1]:\n",
    "                ele[i], ele[i + 1] = ele[i+1], ele[i]\n",
    "                swapped = True\n",
    "\n",
    "elements = [3, -1, 8, 8, 7, 1, 10, -6]\n",
    "print(f\"{elements}\")\n",
    "bubbleSort(elements)\n",
    "print(f\"{elements}\")"
   ]
  },
  {
   "cell_type": "markdown",
   "id": "fb455aaf-1663-486f-9b02-0f27dc53d7b2",
   "metadata": {},
   "source": [
    "#### 2. Insertion Sort\n",
    "\n",
    "Having an array of numbers we want to sort the numbers in either descending or ascending order. Here is how the insertion sort works.\n",
    "\n",
    "1. The array is split into two arrays a sorted and unsorted array.\n",
    "2. We assume that the first element in the array is sorted.\n",
    "3. Select an element in an unsorted array and compare it with the sorted part.\n",
    "4. If the elements in the sorted array is smaller than the selected we proceed to the next element in the unsorted array else we shift the elements in the sorted part towards the right\n",
    "5. We insert the selected element at the right index.\n",
    "6. We repeat the above steps till all the elements are sorted. Let's consider the following visualization.\n",
    "\n",
    "| -                 | -          | -          |                                     |\n",
    "| ----------------- | ---------- | ---------- | ----------------------------------- |\n",
    "| `[-6 20 8 -2 4]`  | `NTI` = 20 | `SE` = -6  | -6 > 20? NO : place 20 to the right |\n",
    "| `[-6 20 8 -2 4]`  | `NTI` = 8  | `SE` = 20  | 20> 8? YES : Shift 20 the right     |\n",
    "| `[-6 20 20 -2 4]` | `NTI` = 8  | `SE` = -6  | -6> 8? NO : place 8 the right       |\n",
    "| `[-6 8 20 -2 4]`  | `NTI` = -2 | `SE` = -20 | 20> -2? YES : Shift 20 to the right |\n",
    "| `[-6 8 20 20 4]`  | `NTI` = -2 | `SE` = 8   | 8> -2? YES : Shift 8 to the right   |\n",
    "| `[-6 8 8 20 4]`   | `NTI` = -2 | `SE` = -6  | -6> -2? YES : Shift -6 to the right |\n",
    "| `[-6 -2 8 20 4]`  | `NTI` = -2 | `SE` = -6  | -6> -2? No : place -2 to the right  |\n",
    "| `[-6 -2 8 20 4]`  | `NTI` = 4  | `SE` = 20  | 20> 4? Yes : Shift 20 to the right  |\n",
    "| `[-6 -2 8 20 20]` | `NTI` = 4  | `SE` = 8   | 8> 4? Yes : Shift 8 to the right    |\n",
    "| `[-6 -2 8 8 20]`  | `NTI` = 4  | `SE` = -2  | -2> 4? No : place 4 to the right    |\n",
    "| `[-6 -2 4 8 20]`  | -          | -          | -                                   |\n",
    "\n",
    "- `NTI` - Number to insert.\n",
    "- `SE` - Sorted element.\n",
    "\n",
    "> Finally we will have a sorted array `[-6 -2 4 8 20]`. Now let's go and implement this:\n"
   ]
  },
  {
   "cell_type": "code",
   "execution_count": 106,
   "id": "7c6f8285-3e1a-47dc-97d5-8e9af237fbf4",
   "metadata": {},
   "outputs": [
    {
     "name": "stdout",
     "output_type": "stream",
     "text": [
      "[3, -1, 8, 8, 7, 1, 10, -6]\n",
      "[-6, -1, 1, 3, 7, 8, 8, 10]\n"
     ]
    }
   ],
   "source": [
    "def insertionSort(arr):\n",
    "    for i in range(1, len(arr)):\n",
    "        nti = arr[i]\n",
    "        j = i -1\n",
    "        while j >= 0 and arr[j] > nti:\n",
    "            arr[j + 1] = arr[j]\n",
    "            j -= 1\n",
    "        arr[j + 1] = nti\n",
    "\n",
    "elements = [3, -1, 8, 8, 7, 1, 10, -6]\n",
    "print(f\"{elements}\")\n",
    "insertionSort(elements)\n",
    "print(f\"{elements}\")"
   ]
  },
  {
   "cell_type": "markdown",
   "id": "8b9b1fc9-bf0d-4048-b2d5-04d062ad2b35",
   "metadata": {},
   "source": [
    "? What about sorting in descending order?"
   ]
  },
  {
   "cell_type": "code",
   "execution_count": 109,
   "id": "71f416c7-2769-4606-b629-ce7a45818c25",
   "metadata": {},
   "outputs": [
    {
     "name": "stdout",
     "output_type": "stream",
     "text": [
      "[3, -1, 8, 8, 7, 1, 10, -6]\n",
      "[10, 8, 8, 7, 3, 1, -1, -6]\n"
     ]
    }
   ],
   "source": [
    "def insertionSort(arr):\n",
    "    for i in range(1, len(arr)):\n",
    "        nti = arr[i]\n",
    "        j = i -1\n",
    "        while j >= 0 and arr[j] < nti:\n",
    "            arr[j + 1] = arr[j]\n",
    "            j -= 1\n",
    "        arr[j + 1] = nti\n",
    "\n",
    "elements = [3, -1, 8, 8, 7, 1, 10, -6]\n",
    "print(f\"{elements}\")\n",
    "insertionSort(elements)\n",
    "print(f\"{elements}\")"
   ]
  },
  {
   "cell_type": "markdown",
   "id": "c92f8ce2-8292-4a9a-b7e0-2ab23e52abb0",
   "metadata": {},
   "source": [
    "\n",
    "- Time complexity: **O(n^2)**\n",
    "\n",
    "#### 3. Quick Sort\n",
    "\n",
    "- When doing a quicksort first we need to pick up the pivot element.\n",
    "  - **How do we pick up a pivot?.**\n",
    "    - first element of an array\n",
    "    - last element of an array\n",
    "    - median value as pivot\n",
    "    - random element as pivot\n",
    "- When sorting with this algorithm we basically put everything that is smaller than the pivot to the left and to the right if greater.\n",
    "- we repeat the process till we have an array of length 1. which is sorted by definition.\n"
   ]
  },
  {
   "cell_type": "code",
   "execution_count": 116,
   "id": "62752d21-0acb-4ed6-bcc5-9235ca843461",
   "metadata": {},
   "outputs": [
    {
     "name": "stdout",
     "output_type": "stream",
     "text": [
      "[3, -1, 8, 8, 7, 1, 10, -6]\n",
      "[-6, -1, 1, 3, 7, 8, 8, 10]\n"
     ]
    }
   ],
   "source": [
    "def quickSort(arr):\n",
    "    if len(arr) < 2:\n",
    "        return arr\n",
    "    pivot = arr[len(arr) - 1]\n",
    "    left = []\n",
    "    right = []\n",
    "    for i in range(len(arr)-1):\n",
    "        if arr[i] < pivot:\n",
    "            left.append(arr[i])\n",
    "        else:\n",
    "              right.append(arr[i])\n",
    "    return quickSort(left) + [pivot] + quickSort(right)\n",
    "\n",
    "elements = [3, -1, 8, 8, 7, 1, 10, -6]\n",
    "print(f\"{elements}\")\n",
    "elements = quickSort(elements)\n",
    "print(f\"{elements}\")"
   ]
  },
  {
   "cell_type": "markdown",
   "id": "fe8a0253-894e-4f4e-90a3-53fe011f2c6f",
   "metadata": {},
   "source": [
    "\n",
    "The above function returns a sorted array. If we want to sort arrays in place we can do it as follows:\n"
   ]
  },
  {
   "cell_type": "code",
   "execution_count": 121,
   "id": "43e6629b-ed26-458d-8b07-f3f6b58e66f8",
   "metadata": {},
   "outputs": [
    {
     "name": "stdout",
     "output_type": "stream",
     "text": [
      "[3, -1, 8, 8, 7, 1, 10, -6]\n",
      "[-6, -1, 1, 3, 7, 8, 8, 10]\n"
     ]
    }
   ],
   "source": [
    "def swap(arr, i , j):\n",
    "    arr[i], arr[j] = arr[j], arr[i]\n",
    "\n",
    "def partition(arr, left, right):\n",
    "    pivot = arr[right]\n",
    "    i = left - 1\n",
    "    for j in range(left, right):\n",
    "        if arr[j] < pivot:\n",
    "            i += 1\n",
    "            swap(arr, i, j)\n",
    "    swap(arr, i + 1, right)\n",
    "    return i + 1\n",
    "\n",
    "def quickSort(arr, left, right):\n",
    "    if left < right:\n",
    "        pivot = partition(arr, left, right)\n",
    "        quickSort(arr, left, pivot - 1)\n",
    "        quickSort(arr, pivot + 1, right)\n",
    "\n",
    "elements = [3, -1, 8, 8, 7, 1, 10, -6]\n",
    "print(f\"{elements}\")\n",
    "quickSort(elements, 0, len(elements)-1)\n",
    "print(f\"{elements}\")"
   ]
  },
  {
   "cell_type": "markdown",
   "id": "986e4d63-1576-4247-ab79-c46609f2fab2",
   "metadata": {},
   "source": [
    "? What about sorting in descending order?"
   ]
  },
  {
   "cell_type": "code",
   "execution_count": 124,
   "id": "6ff5ff5e-e6d2-4237-bd90-47f2dacfac51",
   "metadata": {},
   "outputs": [
    {
     "name": "stdout",
     "output_type": "stream",
     "text": [
      "[3, -1, 8, 8, 7, 1, 10, -6]\n",
      "[10, 8, 8, 7, 3, 1, -1, -6]\n"
     ]
    }
   ],
   "source": [
    "def quickSort(arr):\n",
    "    if len(arr) < 2:\n",
    "        return arr\n",
    "    pivot = arr[len(arr) - 1]\n",
    "    left = []\n",
    "    right = []\n",
    "    for i in range(len(arr)-1):\n",
    "        if arr[i] > pivot:\n",
    "            left.append(arr[i])\n",
    "        else:\n",
    "              right.append(arr[i])\n",
    "    return quickSort(left) + [pivot] + quickSort(right)\n",
    "\n",
    "elements = [3, -1, 8, 8, 7, 1, 10, -6]\n",
    "print(f\"{elements}\")\n",
    "elements = quickSort(elements)\n",
    "print(f\"{elements}\")"
   ]
  },
  {
   "cell_type": "markdown",
   "id": "fd9ddbd2-a061-4c65-9744-d52ef37235a1",
   "metadata": {},
   "source": [
    "To sort in descending order in place you just need to modify the `partition` to:"
   ]
  },
  {
   "cell_type": "code",
   "execution_count": 127,
   "id": "08ef1abf-c9e7-408b-b689-3418b5baf468",
   "metadata": {},
   "outputs": [
    {
     "name": "stdout",
     "output_type": "stream",
     "text": [
      "[3, -1, 8, 8, 7, 1, 10, -6]\n",
      "[10, 8, 8, 7, 3, 1, -1, -6]\n"
     ]
    }
   ],
   "source": [
    "def partition(arr, left, right):\n",
    "    pivot = arr[right]\n",
    "    i = left - 1\n",
    "    for j in range(left, right):\n",
    "        if arr[j] > pivot:\n",
    "            i += 1\n",
    "            swap(arr, i, j)\n",
    "    swap(arr, i + 1, right)\n",
    "    return i + 1\n",
    "\n",
    "def quickSort(arr, left, right):\n",
    "    if left < right:\n",
    "        pivot = partition(arr, left, right)\n",
    "        quickSort(arr, left, pivot - 1)\n",
    "        quickSort(arr, pivot + 1, right)\n",
    "\n",
    "elements = [3, -1, 8, 8, 7, 1, 10, -6]\n",
    "print(f\"{elements}\")\n",
    "quickSort(elements, 0, len(elements)-1)\n",
    "print(f\"{elements}\")"
   ]
  },
  {
   "cell_type": "markdown",
   "id": "c5610803-47d2-4bf4-ac7c-f610a8890c12",
   "metadata": {},
   "source": [
    "\n",
    "- Time complexity: **O(n^2)**\n",
    "\n",
    "#### 4. Merge Sort\n",
    "\n",
    "The merge sort works as follows\n",
    "\n",
    "1. We divide the array into sub arrays with only one element which is considered sorted.\n",
    "2. We will then merge them together\n"
   ]
  },
  {
   "cell_type": "code",
   "execution_count": 136,
   "id": "0c71f180-9532-413a-9267-e98feb34b116",
   "metadata": {},
   "outputs": [
    {
     "name": "stdout",
     "output_type": "stream",
     "text": [
      "[3, -1, 8, 8, 7, 1, 10, -6]\n",
      "[-6, -1, 1, 3, 7, 8, 8, 10]\n"
     ]
    }
   ],
   "source": [
    "\n",
    "def merge(left, right):\n",
    "    sorted = []\n",
    "    while len(left) != 0 and len(right) != 0:\n",
    "        if left[0] <= right[0]:\n",
    "            sorted.append(left[0])\n",
    "            left = left[1:]\n",
    "        else:\n",
    "            sorted.append(right[0])\n",
    "            right = right[1:]\n",
    "    return sorted + left + right\n",
    "\n",
    "def mergeSort(arr):\n",
    "    if len(arr) < 2:\n",
    "        return arr\n",
    "    mid = len(arr)//2\n",
    "    left = arr[:mid]\n",
    "    right = arr[mid:]\n",
    "    return merge(mergeSort(left), mergeSort(right))\n",
    "    \n",
    "elements = [3, -1, 8, 8, 7, 1, 10, -6]\n",
    "print(f\"{elements}\")\n",
    "elements =mergeSort(elements)\n",
    "print(f\"{elements}\")\n"
   ]
  },
  {
   "cell_type": "markdown",
   "id": "58a20bc3-5839-41c2-9090-5242f098e433",
   "metadata": {},
   "source": [
    "? What about sorting in descending order?"
   ]
  },
  {
   "cell_type": "code",
   "execution_count": 139,
   "id": "ba9a1550-b780-4303-9bf5-ae7a089dc6ec",
   "metadata": {},
   "outputs": [
    {
     "name": "stdout",
     "output_type": "stream",
     "text": [
      "[3, -1, 8, 8, 7, 1, 10, -6]\n",
      "[10, 8, 8, 7, 3, 1, -1, -6]\n"
     ]
    }
   ],
   "source": [
    "def merge(left, right):\n",
    "    sorted = []\n",
    "    while len(left) != 0 and len(right) != 0:\n",
    "        if left[0] >= right[0]:\n",
    "            sorted.append(left[0])\n",
    "            left = left[1:]\n",
    "        else:\n",
    "            sorted.append(right[0])\n",
    "            right = right[1:]\n",
    "    return sorted + left + right\n",
    "\n",
    "def mergeSort(arr):\n",
    "    if len(arr) < 2:\n",
    "        return arr\n",
    "    mid = len(arr)//2\n",
    "    left = arr[:mid]\n",
    "    right = arr[mid:]\n",
    "    return merge(mergeSort(left), mergeSort(right))\n",
    "    \n",
    "elements = [3, -1, 8, 8, 7, 1, 10, -6]\n",
    "print(f\"{elements}\")\n",
    "elements =mergeSort(elements)\n",
    "print(f\"{elements}\")"
   ]
  },
  {
   "cell_type": "markdown",
   "id": "46d797de-8206-434b-89b0-b03961d926c0",
   "metadata": {},
   "source": [
    "- Time complexity: **O(n.log(n))**\n",
    "\n",
    "#### 5. Stalin Sort\n",
    "\n",
    "This is a sorting algorithm where an element that us not in order is removed from the list. The elements that are not sorted are moved to the start of the list in the order that they have appeared in the list. This process is repeated until the list is sorted.\n"
   ]
  },
  {
   "cell_type": "code",
   "execution_count": 142,
   "id": "646128de-6904-4865-8f61-d7741546216c",
   "metadata": {},
   "outputs": [
    {
     "name": "stdout",
     "output_type": "stream",
     "text": [
      "[3, -1, 8, 8, 7, 1, 10, -6]\n",
      "[-6, -1, 1, 3, 7, 8, 8, 10]\n"
     ]
    }
   ],
   "source": [
    "def stalinSort(arr):\n",
    "    j = 0\n",
    "    while True:\n",
    "        moved = 0\n",
    "        for i in range(len(arr) - 1 - j):\n",
    "            if arr[i] > arr[i + 1]:\n",
    "                index = arr[i]\n",
    "                temp = arr[i + 1]\n",
    "\n",
    "                # Remove the elements and reinsert them at the correct position\n",
    "                arr.pop(i)\n",
    "                arr.insert(i, temp)\n",
    "                arr[i] = temp\n",
    "\n",
    "                arr.pop(i + 1)\n",
    "                arr.insert(i + 1, index)\n",
    "                arr[i + 1] = index\n",
    "\n",
    "                moved += 1\n",
    "        j += 1\n",
    "        if moved == 0:\n",
    "            break\n",
    "    return arr\n",
    "    \n",
    "elements = [3, -1, 8, 8, 7, 1, 10, -6]\n",
    "print(f\"{elements}\")\n",
    "elements = stalinSort(elements)\n",
    "print(f\"{elements}\")"
   ]
  },
  {
   "cell_type": "markdown",
   "id": "17f1f461-5cd9-4695-95e7-3d092e551029",
   "metadata": {},
   "source": [
    "\n",
    "- Time complexity: **O(n^2)**\n",
    "\n",
    "### Miscellaneous\n",
    "\n",
    "In this section we are going to have a look at some miscellaneous algorithms.\n",
    "\n",
    "#### 1. Cartesian Product\n",
    "\n",
    "Given 2 finite non-empty sets find their **Cartesian Product**.\n",
    "\n",
    "Let's say we have sets `A =[1, 2]` and `B = [1, 2, 3]` their Cartesian Product is `AxB = [[1, 2], [1, 2], [1, 3], [2, 1], [2, 2], [2, 3]]`\n"
   ]
  },
  {
   "cell_type": "code",
   "execution_count": 147,
   "id": "12e8252b-1084-44b0-a0d6-42cd6ef97efa",
   "metadata": {},
   "outputs": [
    {
     "data": {
      "text/plain": [
       "[[1, 1], [1, 2], [1, 3], [2, 1], [2, 2], [2, 3]]"
      ]
     },
     "execution_count": 147,
     "metadata": {},
     "output_type": "execute_result"
    }
   ],
   "source": [
    "def cartesianProduct(a, b):\n",
    "    cp = []\n",
    "    for i in a:\n",
    "        for j in b:\n",
    "            cp.append([i, j])\n",
    "    return cp\n",
    "A =[1, 2]\n",
    "B = [1, 2, 3]\n",
    "\n",
    "cartesianProduct(A, B)"
   ]
  },
  {
   "cell_type": "markdown",
   "id": "2b31ca3a-4320-44b4-93ef-a4ae46846177",
   "metadata": {},
   "source": [
    "- Time complexity: **O(mn)** - depends on the length of set `A` and `B`\n",
    "\n",
    "\n",
    "#### 2. Climbing Stairs\n",
    "\n",
    "Given a staircase of `n` find the number of distinct ways to climb to the top. You can either climb 1 step or 2 steps at a time.\n",
    "\n",
    "```shell\n",
    "n = 1 -> [(1)]\n",
    "n = 2 -> [(1), (2)]\n",
    "n = 3 -> [(1, 1, 1), (1, 2), (2, 1)]\n",
    "n = 4 -> [(1, 1, 1, 1), (1, 2, 1), (1 , 1, 2), (2, 1, 1), (2, 2)]\n",
    "```\n",
    "\n",
    "We can see from the patten that the number of ways we are getting by adding the `2` previous values eg:\n",
    "\n",
    "```shell\n",
    "n = 4 -> 2 + 3\n",
    "n = 3 -> 2 + 1\n",
    "```\n",
    "\n",
    "Where our base case is `1` and `2`"
   ]
  },
  {
   "cell_type": "code",
   "execution_count": 158,
   "id": "d3c72bdc-43dd-4fde-ac8d-7cd503d87bc5",
   "metadata": {},
   "outputs": [
    {
     "name": "stdout",
     "output_type": "stream",
     "text": [
      "Climbing 1 steps can be done in 1 way(s).\n",
      "Climbing 2 steps can be done in 2 way(s).\n",
      "Climbing 3 steps can be done in 3 way(s).\n",
      "Climbing 4 steps can be done in 5 way(s).\n",
      "Climbing 5 steps can be done in 8 way(s).\n"
     ]
    }
   ],
   "source": [
    "def climbingStaircase(n):\n",
    "    steps = [1, 2]\n",
    "    for i in range(2, n+1):\n",
    "        steps.append(steps[i - 1] + steps[i - 2])\n",
    "    return steps[n -1]\n",
    "\n",
    "for i in range(1, 6):\n",
    "    print(f\"Climbing {i} steps can be done in {climbingStaircase(i)} way(s).\")"
   ]
  },
  {
   "cell_type": "markdown",
   "id": "2eb7137d-e012-4439-8e2b-6ffd4742db6e",
   "metadata": {},
   "source": [
    "We can do this with recursion as follows:"
   ]
  },
  {
   "cell_type": "code",
   "execution_count": 163,
   "id": "1eda8473-8eff-47f7-98cd-b8cd58462f73",
   "metadata": {},
   "outputs": [
    {
     "name": "stdout",
     "output_type": "stream",
     "text": [
      "Climbing 1 steps can be done in 1 way(s).\n",
      "Climbing 2 steps can be done in 2 way(s).\n",
      "Climbing 3 steps can be done in 3 way(s).\n",
      "Climbing 4 steps can be done in 5 way(s).\n",
      "Climbing 5 steps can be done in 8 way(s).\n"
     ]
    }
   ],
   "source": [
    "def climbingStaircase(n):\n",
    "    if (n < 3):\n",
    "        return n\n",
    "    return climbingStaircase(n - 1) + climbingStaircase(n - 2)\n",
    "\n",
    "for i in range(1, 6):\n",
    "    print(f\"Climbing {i} steps can be done in {climbingStaircase(i)} way(s).\")"
   ]
  },
  {
   "cell_type": "markdown",
   "id": "dd5ed1fe-3248-40fe-8c62-ad72375f4524",
   "metadata": {},
   "source": [
    "\n",
    "- Time complexity: **O(n)**\n",
    "\n",
    "#### 3. Tower of Hanoi\n",
    "\n",
    "The goal is to move the entire stuck from the first rod to the last one abiding the following rules:\n",
    "\n",
    "1. Only one disk can be moved\n",
    "2. You only take the upper disk and place it on top of a smaller disk and on an empty rod.\n",
    "3. No disk should be placed on top of the smaller disk.\n",
    "\n",
    "**Procedure**\n",
    "\n",
    "1. Shift `n-1` disk from `A` to `B` using `C` when required.\n",
    "2. Shift the last disk from `A` to `C`\n",
    "3. Shift `n-1` disk from `B` to `C` using `A` when required.\n",
    "4. repeat the process\n"
   ]
  },
  {
   "cell_type": "code",
   "execution_count": 171,
   "id": "cb45a86d-198a-434b-8b87-8dfe0466bcc7",
   "metadata": {},
   "outputs": [
    {
     "name": "stdout",
     "output_type": "stream",
     "text": [
      "✔️ Move 💿 1 from A to C.\n",
      "✔️ Move 💿 2 from A to B.\n",
      "✔️ Move 💿 1 from C to B.\n",
      "✔️ Move 💿 3 from A to C.\n",
      "✔️ Move 💿 1 from B to A.\n",
      "✔️ Move 💿 2 from B to C.\n",
      "✔️ Move 💿 1 from A to C.\n"
     ]
    }
   ],
   "source": [
    "def towerOfHanoi(disks, _from, to, using):\n",
    "    if disks == 1:\n",
    "        print(f\"✔️ Move 💿 {disks} from {_from} to {to}.\")\n",
    "        return\n",
    "    towerOfHanoi(disks - 1, _from, using, to);\n",
    "    print(f\"✔️ Move 💿 {disks} from {_from} to {to}.\");\n",
    "    towerOfHanoi(disks - 1, using, to, _from);\n",
    "\n",
    "towerOfHanoi(3, \"A\", \"C\", \"B\")"
   ]
  },
  {
   "cell_type": "markdown",
   "id": "be8b9091-15d1-472f-ba43-633d04d3ed39",
   "metadata": {},
   "source": [
    "- Time complexity: **O(2^n)**\n",
    "\n",
    "### Algorithm Design Techniques and Terminologies\n",
    "\n",
    "1. **Brute force** - Simple and exhaustive technique that evaluate every possible outcome to find the best. e.g (Linear Search Algorithm)\n",
    "2. **Greedy** - Choose the best option at that current time without considering the future e.g (Dijkstra's algorithm, Prim's algorithm and Kruskai's Algorithm)\n",
    "3. **Divide and Conquer** - Divide a problem into smaller problem and each smaller problem will be solved and the partial solutions are then combined as a single solution. eg (Binary Search, Quick Sort, Merge Sort and Tower of hanoi)\n",
    "4. **Dynamic Programming** - Divide the problem into smaller sub problems, breaking it down into smaller sub problem. Store the result and reuse it into sub problems. This is called a memorization and optimization technique that improves the time complexity of an algorithm. eg (Fibonacci and Climbing staircase)\n",
    "5. **Backtracking** - Generates all possible solutions, check if the solution satisfies all the given constraints and only then you proceed with generating subsequent solutions. If the constraints are not satisfied backtrack and go on different path to find the solution. eg (N-Queens) problem.\n"
   ]
  },
  {
   "cell_type": "code",
   "execution_count": null,
   "id": "3b36efb1-8692-4ce9-aa60-b79b28ff4d6a",
   "metadata": {},
   "outputs": [],
   "source": []
  }
 ],
 "metadata": {
  "kernelspec": {
   "display_name": "Python 3 (ipykernel)",
   "language": "python",
   "name": "python3"
  },
  "language_info": {
   "codemirror_mode": {
    "name": "ipython",
    "version": 3
   },
   "file_extension": ".py",
   "mimetype": "text/x-python",
   "name": "python",
   "nbconvert_exporter": "python",
   "pygments_lexer": "ipython3",
   "version": "3.11.7"
  }
 },
 "nbformat": 4,
 "nbformat_minor": 5
}
